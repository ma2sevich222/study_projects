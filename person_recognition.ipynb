{
  "nbformat": 4,
  "nbformat_minor": 0,
  "metadata": {
    "colab": {
      "provenance": [],
      "authorship_tag": "ABX9TyN0NMqKAZ6zkzaWOwVLp0Oo",
      "include_colab_link": true
    },
    "kernelspec": {
      "name": "python3",
      "display_name": "Python 3"
    }
  },
  "cells": [
    {
      "cell_type": "markdown",
      "metadata": {
        "id": "view-in-github",
        "colab_type": "text"
      },
      "source": [
        "<a href=\"https://colab.research.google.com/github/ma2sevich222/study_projects/blob/main/person_recognition.ipynb\" target=\"_parent\"><img src=\"https://colab.research.google.com/assets/colab-badge.svg\" alt=\"Open In Colab\"/></a>"
      ]
    },
    {
      "cell_type": "code",
      "metadata": {
        "id": "uC8HVKOzo3Jq",
        "outputId": "3c140b70-2e10-43d4-e880-321647695344",
        "colab": {
          "base_uri": "https://localhost:8080/",
          "height": 105
        }
      },
      "source": [
        "%tensorflow_version 1.14"
      ],
      "execution_count": null,
      "outputs": [
        {
          "output_type": "stream",
          "text": [
            "`%tensorflow_version` only switches the major version: 1.x or 2.x.\n",
            "You set: `1.14`. This will be interpreted as: `1.x`.\n",
            "\n",
            "\n",
            "TensorFlow 1.x selected.\n"
          ],
          "name": "stdout"
        }
      ]
    },
    {
      "cell_type": "code",
      "metadata": {
        "id": "KUBxH9hvjigU",
        "outputId": "7f716ce2-7d94-41cd-aa42-d3bdce5fd2dd",
        "colab": {
          "base_uri": "https://localhost:8080/",
          "height": 265
        }
      },
      "source": [
        "pip install MTCNN # Устанавливаем детектор лиц"
      ],
      "execution_count": null,
      "outputs": [
        {
          "output_type": "stream",
          "text": [
            "Collecting MTCNN\n",
            "\u001b[?25l  Downloading https://files.pythonhosted.org/packages/67/43/abee91792797c609c1bf30f1112117f7a87a713ebaa6ec5201d5555a73ef/mtcnn-0.1.0-py3-none-any.whl (2.3MB)\n",
            "\r\u001b[K     |▏                               | 10kB 18.2MB/s eta 0:00:01\r\u001b[K     |▎                               | 20kB 1.8MB/s eta 0:00:02\r\u001b[K     |▍                               | 30kB 2.3MB/s eta 0:00:01\r\u001b[K     |▋                               | 40kB 1.7MB/s eta 0:00:02\r\u001b[K     |▊                               | 51kB 1.9MB/s eta 0:00:02\r\u001b[K     |▉                               | 61kB 2.2MB/s eta 0:00:01\r\u001b[K     |█                               | 71kB 2.4MB/s eta 0:00:01\r\u001b[K     |█▏                              | 81kB 2.6MB/s eta 0:00:01\r\u001b[K     |█▎                              | 92kB 2.9MB/s eta 0:00:01\r\u001b[K     |█▌                              | 102kB 2.8MB/s eta 0:00:01\r\u001b[K     |█▋                              | 112kB 2.8MB/s eta 0:00:01\r\u001b[K     |█▊                              | 122kB 2.8MB/s eta 0:00:01\r\u001b[K     |█▉                              | 133kB 2.8MB/s eta 0:00:01\r\u001b[K     |██                              | 143kB 2.8MB/s eta 0:00:01\r\u001b[K     |██▏                             | 153kB 2.8MB/s eta 0:00:01\r\u001b[K     |██▎                             | 163kB 2.8MB/s eta 0:00:01\r\u001b[K     |██▌                             | 174kB 2.8MB/s eta 0:00:01\r\u001b[K     |██▋                             | 184kB 2.8MB/s eta 0:00:01\r\u001b[K     |██▊                             | 194kB 2.8MB/s eta 0:00:01\r\u001b[K     |███                             | 204kB 2.8MB/s eta 0:00:01\r\u001b[K     |███                             | 215kB 2.8MB/s eta 0:00:01\r\u001b[K     |███▏                            | 225kB 2.8MB/s eta 0:00:01\r\u001b[K     |███▍                            | 235kB 2.8MB/s eta 0:00:01\r\u001b[K     |███▌                            | 245kB 2.8MB/s eta 0:00:01\r\u001b[K     |███▋                            | 256kB 2.8MB/s eta 0:00:01\r\u001b[K     |███▊                            | 266kB 2.8MB/s eta 0:00:01\r\u001b[K     |████                            | 276kB 2.8MB/s eta 0:00:01\r\u001b[K     |████                            | 286kB 2.8MB/s eta 0:00:01\r\u001b[K     |████▏                           | 296kB 2.8MB/s eta 0:00:01\r\u001b[K     |████▍                           | 307kB 2.8MB/s eta 0:00:01\r\u001b[K     |████▌                           | 317kB 2.8MB/s eta 0:00:01\r\u001b[K     |████▋                           | 327kB 2.8MB/s eta 0:00:01\r\u001b[K     |████▉                           | 337kB 2.8MB/s eta 0:00:01\r\u001b[K     |█████                           | 348kB 2.8MB/s eta 0:00:01\r\u001b[K     |█████                           | 358kB 2.8MB/s eta 0:00:01\r\u001b[K     |█████▏                          | 368kB 2.8MB/s eta 0:00:01\r\u001b[K     |█████▍                          | 378kB 2.8MB/s eta 0:00:01\r\u001b[K     |█████▌                          | 389kB 2.8MB/s eta 0:00:01\r\u001b[K     |█████▋                          | 399kB 2.8MB/s eta 0:00:01\r\u001b[K     |█████▉                          | 409kB 2.8MB/s eta 0:00:01\r\u001b[K     |██████                          | 419kB 2.8MB/s eta 0:00:01\r\u001b[K     |██████                          | 430kB 2.8MB/s eta 0:00:01\r\u001b[K     |██████▎                         | 440kB 2.8MB/s eta 0:00:01\r\u001b[K     |██████▍                         | 450kB 2.8MB/s eta 0:00:01\r\u001b[K     |██████▌                         | 460kB 2.8MB/s eta 0:00:01\r\u001b[K     |██████▊                         | 471kB 2.8MB/s eta 0:00:01\r\u001b[K     |██████▉                         | 481kB 2.8MB/s eta 0:00:01\r\u001b[K     |███████                         | 491kB 2.8MB/s eta 0:00:01\r\u001b[K     |███████                         | 501kB 2.8MB/s eta 0:00:01\r\u001b[K     |███████▎                        | 512kB 2.8MB/s eta 0:00:01\r\u001b[K     |███████▍                        | 522kB 2.8MB/s eta 0:00:01\r\u001b[K     |███████▌                        | 532kB 2.8MB/s eta 0:00:01\r\u001b[K     |███████▊                        | 542kB 2.8MB/s eta 0:00:01\r\u001b[K     |███████▉                        | 552kB 2.8MB/s eta 0:00:01\r\u001b[K     |████████                        | 563kB 2.8MB/s eta 0:00:01\r\u001b[K     |████████▏                       | 573kB 2.8MB/s eta 0:00:01\r\u001b[K     |████████▎                       | 583kB 2.8MB/s eta 0:00:01\r\u001b[K     |████████▍                       | 593kB 2.8MB/s eta 0:00:01\r\u001b[K     |████████▌                       | 604kB 2.8MB/s eta 0:00:01\r\u001b[K     |████████▊                       | 614kB 2.8MB/s eta 0:00:01\r\u001b[K     |████████▉                       | 624kB 2.8MB/s eta 0:00:01\r\u001b[K     |█████████                       | 634kB 2.8MB/s eta 0:00:01\r\u001b[K     |█████████▏                      | 645kB 2.8MB/s eta 0:00:01\r\u001b[K     |█████████▎                      | 655kB 2.8MB/s eta 0:00:01\r\u001b[K     |█████████▍                      | 665kB 2.8MB/s eta 0:00:01\r\u001b[K     |█████████▋                      | 675kB 2.8MB/s eta 0:00:01\r\u001b[K     |█████████▊                      | 686kB 2.8MB/s eta 0:00:01\r\u001b[K     |█████████▉                      | 696kB 2.8MB/s eta 0:00:01\r\u001b[K     |██████████                      | 706kB 2.8MB/s eta 0:00:01\r\u001b[K     |██████████▏                     | 716kB 2.8MB/s eta 0:00:01\r\u001b[K     |██████████▎                     | 727kB 2.8MB/s eta 0:00:01\r\u001b[K     |██████████▍                     | 737kB 2.8MB/s eta 0:00:01\r\u001b[K     |██████████▋                     | 747kB 2.8MB/s eta 0:00:01\r\u001b[K     |██████████▊                     | 757kB 2.8MB/s eta 0:00:01\r\u001b[K     |██████████▉                     | 768kB 2.8MB/s eta 0:00:01\r\u001b[K     |███████████                     | 778kB 2.8MB/s eta 0:00:01\r\u001b[K     |███████████▏                    | 788kB 2.8MB/s eta 0:00:01\r\u001b[K     |███████████▎                    | 798kB 2.8MB/s eta 0:00:01\r\u001b[K     |███████████▌                    | 808kB 2.8MB/s eta 0:00:01\r\u001b[K     |███████████▋                    | 819kB 2.8MB/s eta 0:00:01\r\u001b[K     |███████████▊                    | 829kB 2.8MB/s eta 0:00:01\r\u001b[K     |███████████▉                    | 839kB 2.8MB/s eta 0:00:01\r\u001b[K     |████████████                    | 849kB 2.8MB/s eta 0:00:01\r\u001b[K     |████████████▏                   | 860kB 2.8MB/s eta 0:00:01\r\u001b[K     |████████████▎                   | 870kB 2.8MB/s eta 0:00:01\r\u001b[K     |████████████▌                   | 880kB 2.8MB/s eta 0:00:01\r\u001b[K     |████████████▋                   | 890kB 2.8MB/s eta 0:00:01\r\u001b[K     |████████████▊                   | 901kB 2.8MB/s eta 0:00:01\r\u001b[K     |█████████████                   | 911kB 2.8MB/s eta 0:00:01\r\u001b[K     |█████████████                   | 921kB 2.8MB/s eta 0:00:01\r\u001b[K     |█████████████▏                  | 931kB 2.8MB/s eta 0:00:01\r\u001b[K     |█████████████▍                  | 942kB 2.8MB/s eta 0:00:01\r\u001b[K     |█████████████▌                  | 952kB 2.8MB/s eta 0:00:01\r\u001b[K     |█████████████▋                  | 962kB 2.8MB/s eta 0:00:01\r\u001b[K     |█████████████▊                  | 972kB 2.8MB/s eta 0:00:01\r\u001b[K     |██████████████                  | 983kB 2.8MB/s eta 0:00:01\r\u001b[K     |██████████████                  | 993kB 2.8MB/s eta 0:00:01\r\u001b[K     |██████████████▏                 | 1.0MB 2.8MB/s eta 0:00:01\r\u001b[K     |██████████████▍                 | 1.0MB 2.8MB/s eta 0:00:01\r\u001b[K     |██████████████▌                 | 1.0MB 2.8MB/s eta 0:00:01\r\u001b[K     |██████████████▋                 | 1.0MB 2.8MB/s eta 0:00:01\r\u001b[K     |██████████████▉                 | 1.0MB 2.8MB/s eta 0:00:01\r\u001b[K     |███████████████                 | 1.1MB 2.8MB/s eta 0:00:01\r\u001b[K     |███████████████                 | 1.1MB 2.8MB/s eta 0:00:01\r\u001b[K     |███████████████▏                | 1.1MB 2.8MB/s eta 0:00:01\r\u001b[K     |███████████████▍                | 1.1MB 2.8MB/s eta 0:00:01\r\u001b[K     |███████████████▌                | 1.1MB 2.8MB/s eta 0:00:01\r\u001b[K     |███████████████▋                | 1.1MB 2.8MB/s eta 0:00:01\r\u001b[K     |███████████████▉                | 1.1MB 2.8MB/s eta 0:00:01\r\u001b[K     |████████████████                | 1.1MB 2.8MB/s eta 0:00:01\r\u001b[K     |████████████████                | 1.1MB 2.8MB/s eta 0:00:01\r\u001b[K     |████████████████▎               | 1.1MB 2.8MB/s eta 0:00:01\r\u001b[K     |████████████████▍               | 1.2MB 2.8MB/s eta 0:00:01\r\u001b[K     |████████████████▌               | 1.2MB 2.8MB/s eta 0:00:01\r\u001b[K     |████████████████▊               | 1.2MB 2.8MB/s eta 0:00:01\r\u001b[K     |████████████████▉               | 1.2MB 2.8MB/s eta 0:00:01\r\u001b[K     |█████████████████               | 1.2MB 2.8MB/s eta 0:00:01\r\u001b[K     |█████████████████               | 1.2MB 2.8MB/s eta 0:00:01\r\u001b[K     |█████████████████▎              | 1.2MB 2.8MB/s eta 0:00:01\r\u001b[K     |█████████████████▍              | 1.2MB 2.8MB/s eta 0:00:01\r\u001b[K     |█████████████████▌              | 1.2MB 2.8MB/s eta 0:00:01\r\u001b[K     |█████████████████▊              | 1.2MB 2.8MB/s eta 0:00:01\r\u001b[K     |█████████████████▉              | 1.3MB 2.8MB/s eta 0:00:01\r\u001b[K     |██████████████████              | 1.3MB 2.8MB/s eta 0:00:01\r\u001b[K     |██████████████████▏             | 1.3MB 2.8MB/s eta 0:00:01\r\u001b[K     |██████████████████▎             | 1.3MB 2.8MB/s eta 0:00:01\r\u001b[K     |██████████████████▍             | 1.3MB 2.8MB/s eta 0:00:01\r\u001b[K     |██████████████████▋             | 1.3MB 2.8MB/s eta 0:00:01\r\u001b[K     |██████████████████▊             | 1.3MB 2.8MB/s eta 0:00:01\r\u001b[K     |██████████████████▉             | 1.3MB 2.8MB/s eta 0:00:01\r\u001b[K     |███████████████████             | 1.3MB 2.8MB/s eta 0:00:01\r\u001b[K     |███████████████████▏            | 1.4MB 2.8MB/s eta 0:00:01\r\u001b[K     |███████████████████▎            | 1.4MB 2.8MB/s eta 0:00:01\r\u001b[K     |███████████████████▍            | 1.4MB 2.8MB/s eta 0:00:01\r\u001b[K     |███████████████████▋            | 1.4MB 2.8MB/s eta 0:00:01\r\u001b[K     |███████████████████▊            | 1.4MB 2.8MB/s eta 0:00:01\r\u001b[K     |███████████████████▉            | 1.4MB 2.8MB/s eta 0:00:01\r\u001b[K     |████████████████████            | 1.4MB 2.8MB/s eta 0:00:01\r\u001b[K     |████████████████████▏           | 1.4MB 2.8MB/s eta 0:00:01\r\u001b[K     |████████████████████▎           | 1.4MB 2.8MB/s eta 0:00:01\r\u001b[K     |████████████████████▍           | 1.4MB 2.8MB/s eta 0:00:01\r\u001b[K     |████████████████████▋           | 1.5MB 2.8MB/s eta 0:00:01\r\u001b[K     |████████████████████▊           | 1.5MB 2.8MB/s eta 0:00:01\r\u001b[K     |████████████████████▉           | 1.5MB 2.8MB/s eta 0:00:01\r\u001b[K     |█████████████████████           | 1.5MB 2.8MB/s eta 0:00:01\r\u001b[K     |█████████████████████▏          | 1.5MB 2.8MB/s eta 0:00:01\r\u001b[K     |█████████████████████▎          | 1.5MB 2.8MB/s eta 0:00:01\r\u001b[K     |█████████████████████▌          | 1.5MB 2.8MB/s eta 0:00:01\r\u001b[K     |█████████████████████▋          | 1.5MB 2.8MB/s eta 0:00:01\r\u001b[K     |█████████████████████▊          | 1.5MB 2.8MB/s eta 0:00:01\r\u001b[K     |██████████████████████          | 1.5MB 2.8MB/s eta 0:00:01\r\u001b[K     |██████████████████████          | 1.6MB 2.8MB/s eta 0:00:01\r\u001b[K     |██████████████████████▏         | 1.6MB 2.8MB/s eta 0:00:01\r\u001b[K     |██████████████████████▎         | 1.6MB 2.8MB/s eta 0:00:01\r\u001b[K     |██████████████████████▌         | 1.6MB 2.8MB/s eta 0:00:01\r\u001b[K     |██████████████████████▋         | 1.6MB 2.8MB/s eta 0:00:01\r\u001b[K     |██████████████████████▊         | 1.6MB 2.8MB/s eta 0:00:01\r\u001b[K     |███████████████████████         | 1.6MB 2.8MB/s eta 0:00:01\r\u001b[K     |███████████████████████         | 1.6MB 2.8MB/s eta 0:00:01\r\u001b[K     |███████████████████████▏        | 1.6MB 2.8MB/s eta 0:00:01\r\u001b[K     |███████████████████████▍        | 1.6MB 2.8MB/s eta 0:00:01\r\u001b[K     |███████████████████████▌        | 1.7MB 2.8MB/s eta 0:00:01\r\u001b[K     |███████████████████████▋        | 1.7MB 2.8MB/s eta 0:00:01\r\u001b[K     |███████████████████████▊        | 1.7MB 2.8MB/s eta 0:00:01\r\u001b[K     |████████████████████████        | 1.7MB 2.8MB/s eta 0:00:01\r\u001b[K     |████████████████████████        | 1.7MB 2.8MB/s eta 0:00:01\r\u001b[K     |████████████████████████▏       | 1.7MB 2.8MB/s eta 0:00:01\r\u001b[K     |████████████████████████▍       | 1.7MB 2.8MB/s eta 0:00:01\r\u001b[K     |████████████████████████▌       | 1.7MB 2.8MB/s eta 0:00:01\r\u001b[K     |████████████████████████▋       | 1.7MB 2.8MB/s eta 0:00:01\r\u001b[K     |████████████████████████▉       | 1.8MB 2.8MB/s eta 0:00:01\r\u001b[K     |█████████████████████████       | 1.8MB 2.8MB/s eta 0:00:01\r\u001b[K     |█████████████████████████       | 1.8MB 2.8MB/s eta 0:00:01\r\u001b[K     |█████████████████████████▎      | 1.8MB 2.8MB/s eta 0:00:01\r\u001b[K     |█████████████████████████▍      | 1.8MB 2.8MB/s eta 0:00:01\r\u001b[K     |█████████████████████████▌      | 1.8MB 2.8MB/s eta 0:00:01\r\u001b[K     |█████████████████████████▋      | 1.8MB 2.8MB/s eta 0:00:01\r\u001b[K     |█████████████████████████▉      | 1.8MB 2.8MB/s eta 0:00:01\r\u001b[K     |██████████████████████████      | 1.8MB 2.8MB/s eta 0:00:01\r\u001b[K     |██████████████████████████      | 1.8MB 2.8MB/s eta 0:00:01\r\u001b[K     |██████████████████████████▎     | 1.9MB 2.8MB/s eta 0:00:01\r\u001b[K     |██████████████████████████▍     | 1.9MB 2.8MB/s eta 0:00:01\r\u001b[K     |██████████████████████████▌     | 1.9MB 2.8MB/s eta 0:00:01\r\u001b[K     |██████████████████████████▊     | 1.9MB 2.8MB/s eta 0:00:01\r\u001b[K     |██████████████████████████▉     | 1.9MB 2.8MB/s eta 0:00:01\r\u001b[K     |███████████████████████████     | 1.9MB 2.8MB/s eta 0:00:01\r\u001b[K     |███████████████████████████     | 1.9MB 2.8MB/s eta 0:00:01\r\u001b[K     |███████████████████████████▎    | 1.9MB 2.8MB/s eta 0:00:01\r\u001b[K     |███████████████████████████▍    | 1.9MB 2.8MB/s eta 0:00:01\r\u001b[K     |███████████████████████████▌    | 1.9MB 2.8MB/s eta 0:00:01\r\u001b[K     |███████████████████████████▊    | 2.0MB 2.8MB/s eta 0:00:01\r\u001b[K     |███████████████████████████▉    | 2.0MB 2.8MB/s eta 0:00:01\r\u001b[K     |████████████████████████████    | 2.0MB 2.8MB/s eta 0:00:01\r\u001b[K     |████████████████████████████▏   | 2.0MB 2.8MB/s eta 0:00:01\r\u001b[K     |████████████████████████████▎   | 2.0MB 2.8MB/s eta 0:00:01\r\u001b[K     |████████████████████████████▍   | 2.0MB 2.8MB/s eta 0:00:01\r\u001b[K     |████████████████████████████▋   | 2.0MB 2.8MB/s eta 0:00:01\r\u001b[K     |████████████████████████████▊   | 2.0MB 2.8MB/s eta 0:00:01\r\u001b[K     |████████████████████████████▉   | 2.0MB 2.8MB/s eta 0:00:01\r\u001b[K     |█████████████████████████████   | 2.0MB 2.8MB/s eta 0:00:01\r\u001b[K     |█████████████████████████████▏  | 2.1MB 2.8MB/s eta 0:00:01\r\u001b[K     |█████████████████████████████▎  | 2.1MB 2.8MB/s eta 0:00:01\r\u001b[K     |█████████████████████████████▍  | 2.1MB 2.8MB/s eta 0:00:01\r\u001b[K     |█████████████████████████████▋  | 2.1MB 2.8MB/s eta 0:00:01\r\u001b[K     |█████████████████████████████▊  | 2.1MB 2.8MB/s eta 0:00:01\r\u001b[K     |█████████████████████████████▉  | 2.1MB 2.8MB/s eta 0:00:01\r\u001b[K     |██████████████████████████████  | 2.1MB 2.8MB/s eta 0:00:01\r\u001b[K     |██████████████████████████████▏ | 2.1MB 2.8MB/s eta 0:00:01\r\u001b[K     |██████████████████████████████▎ | 2.1MB 2.8MB/s eta 0:00:01\r\u001b[K     |██████████████████████████████▍ | 2.2MB 2.8MB/s eta 0:00:01\r\u001b[K     |██████████████████████████████▋ | 2.2MB 2.8MB/s eta 0:00:01\r\u001b[K     |██████████████████████████████▊ | 2.2MB 2.8MB/s eta 0:00:01\r\u001b[K     |██████████████████████████████▉ | 2.2MB 2.8MB/s eta 0:00:01\r\u001b[K     |███████████████████████████████ | 2.2MB 2.8MB/s eta 0:00:01\r\u001b[K     |███████████████████████████████▏| 2.2MB 2.8MB/s eta 0:00:01\r\u001b[K     |███████████████████████████████▎| 2.2MB 2.8MB/s eta 0:00:01\r\u001b[K     |███████████████████████████████▌| 2.2MB 2.8MB/s eta 0:00:01\r\u001b[K     |███████████████████████████████▋| 2.2MB 2.8MB/s eta 0:00:01\r\u001b[K     |███████████████████████████████▊| 2.2MB 2.8MB/s eta 0:00:01\r\u001b[K     |████████████████████████████████| 2.3MB 2.8MB/s eta 0:00:01\r\u001b[K     |████████████████████████████████| 2.3MB 2.8MB/s \n",
            "\u001b[?25hRequirement already satisfied: keras>=2.0.0 in /usr/local/lib/python3.6/dist-packages (from MTCNN) (2.2.5)\n",
            "Requirement already satisfied: opencv-python>=4.1.0 in /usr/local/lib/python3.6/dist-packages (from MTCNN) (4.1.2.30)\n",
            "Requirement already satisfied: scipy>=0.14 in /usr/local/lib/python3.6/dist-packages (from keras>=2.0.0->MTCNN) (1.4.1)\n",
            "Requirement already satisfied: h5py in /usr/local/lib/python3.6/dist-packages (from keras>=2.0.0->MTCNN) (2.10.0)\n",
            "Requirement already satisfied: pyyaml in /usr/local/lib/python3.6/dist-packages (from keras>=2.0.0->MTCNN) (3.13)\n",
            "Requirement already satisfied: keras-preprocessing>=1.1.0 in /usr/local/lib/python3.6/dist-packages (from keras>=2.0.0->MTCNN) (1.1.0)\n",
            "Requirement already satisfied: keras-applications>=1.0.8 in /usr/local/lib/python3.6/dist-packages (from keras>=2.0.0->MTCNN) (1.0.8)\n",
            "Requirement already satisfied: numpy>=1.9.1 in /usr/local/lib/python3.6/dist-packages (from keras>=2.0.0->MTCNN) (1.18.2)\n",
            "Requirement already satisfied: six>=1.9.0 in /usr/local/lib/python3.6/dist-packages (from keras>=2.0.0->MTCNN) (1.12.0)\n",
            "Installing collected packages: MTCNN\n",
            "Successfully installed MTCNN-0.1.0\n"
          ],
          "name": "stdout"
        }
      ]
    },
    {
      "cell_type": "markdown",
      "metadata": {
        "id": "oBTw8FAJmaj_"
      },
      "source": [
        "#импортируем библиотеки"
      ]
    },
    {
      "cell_type": "code",
      "metadata": {
        "id": "2GKm2ZqOjN9U",
        "outputId": "557d4b01-f2da-49ee-88e4-9dce32bfd309",
        "colab": {
          "base_uri": "https://localhost:8080/",
          "height": 34
        }
      },
      "source": [
        "import matplotlib.pyplot as plt\n",
        "from sklearn.metrics import accuracy_score\n",
        "from sklearn.preprocessing import LabelEncoder\n",
        "from sklearn.preprocessing import Normalizer\n",
        "import os, random\n",
        "from numpy import load\n",
        "from numpy import expand_dims\n",
        "from numpy import asarray\n",
        "from numpy import savez_compressed\n",
        "import numpy as np\n",
        "from numpy import argmax\n",
        "from keras.models import load_model\n",
        "from os import listdir\n",
        "from os.path import isdir\n",
        "from PIL import Image\n",
        "from matplotlib import pyplot\n",
        "from numpy import savez_compressed\n",
        "from numpy import asarray\n",
        "from mtcnn.mtcnn import MTCNN\n",
        "from keras.models import Sequential\n",
        "from keras.layers import Dense, Activation\n",
        "from keras import metrics\n",
        "%matplotlib inline"
      ],
      "execution_count": null,
      "outputs": [
        {
          "output_type": "stream",
          "text": [
            "Using TensorFlow backend.\n"
          ],
          "name": "stderr"
        }
      ]
    },
    {
      "cell_type": "code",
      "metadata": {
        "id": "Tkw94_VPj_Qt",
        "outputId": "ac6081c1-f0ab-4c3f-f091-8b76150b3343",
        "colab": {
          "base_uri": "https://localhost:8080/",
          "height": 125
        }
      },
      "source": [
        "from google.colab import drive\n",
        "drive.mount('/content/drive')"
      ],
      "execution_count": null,
      "outputs": [
        {
          "output_type": "stream",
          "text": [
            "Go to this URL in a browser: https://accounts.google.com/o/oauth2/auth?client_id=947318989803-6bn6qk8qdgf4n4g3pfee6491hc0brc4i.apps.googleusercontent.com&redirect_uri=urn%3aietf%3awg%3aoauth%3a2.0%3aoob&response_type=code&scope=email%20https%3a%2f%2fwww.googleapis.com%2fauth%2fdocs.test%20https%3a%2f%2fwww.googleapis.com%2fauth%2fdrive%20https%3a%2f%2fwww.googleapis.com%2fauth%2fdrive.photos.readonly%20https%3a%2f%2fwww.googleapis.com%2fauth%2fpeopleapi.readonly\n",
            "\n",
            "Enter your authorization code:\n",
            "··········\n",
            "Mounted at /content/drive\n"
          ],
          "name": "stdout"
        }
      ]
    },
    {
      "cell_type": "markdown",
      "metadata": {
        "id": "3VrFjSdPmUtu"
      },
      "source": [
        "##функция распознования лиц и превращение в векторы"
      ]
    },
    {
      "cell_type": "code",
      "metadata": {
        "id": "2WdV0oEMl0sx"
      },
      "source": [
        "def extract_face(filename, required_size=(160, 160)):\n",
        "    \n",
        "\t# загружаем картинки\n",
        "    \n",
        "    image = Image.open(filename)\n",
        "    image = image.convert('RGB')\n",
        "    \n",
        "\t# конвертируем в масив\n",
        "    \n",
        "    pixels = asarray(image)\n",
        "\t# создаем детектор лиц\n",
        "    \n",
        "    detector = MTCNN()\n",
        "    \n",
        "\t# определяем лица\n",
        "    \n",
        "    results = detector.detect_faces(pixels)\n",
        "    x1, y1, width, height = results[0]['box']\n",
        "    x1, y1 = abs(x1), abs(y1)\n",
        "    x2, y2 = x1 + width, y1 + height\n",
        "\t# берем лицо из картинки\n",
        "    face = pixels[y1:y2, x1:x2]\n",
        "\t\n",
        "    image = Image.fromarray(face)\n",
        "    image = image.resize(required_size)\n",
        "    face_array = asarray(image)\n",
        "    return face_array"
      ],
      "execution_count": null,
      "outputs": []
    },
    {
      "cell_type": "markdown",
      "metadata": {
        "id": "riB5PTyLnq9Q"
      },
      "source": [
        "##функция загрузки лиц"
      ]
    },
    {
      "cell_type": "code",
      "metadata": {
        "id": "nUnFO8sXmaWm"
      },
      "source": [
        "def load_faces(directory):\n",
        "\tfaces = list()\n",
        "\tfor filename in listdir(directory):\n",
        "\t\tpath = directory + filename\n",
        "\t\tface = extract_face(path)\n",
        "\t\t# сохраняем лицо\n",
        "\t\tfaces.append(face)\n",
        "\treturn faces"
      ],
      "execution_count": null,
      "outputs": []
    },
    {
      "cell_type": "markdown",
      "metadata": {
        "id": "iboAtBvfnzVD"
      },
      "source": [
        "##функция загрузки данных"
      ]
    },
    {
      "cell_type": "code",
      "metadata": {
        "id": "bxAofiXEm0lY"
      },
      "source": [
        "# функция загрузки датасета\n",
        "def load_dataset(directory):\n",
        "\tX, y = list(), list()\n",
        "\t# пробегаемся по папкам классов\n",
        "\tfor subdir in listdir(directory):\n",
        "\t\t\n",
        "\t\tpath = directory + subdir + '/'\n",
        "\t\t\n",
        "\t\tif not isdir(path):\n",
        "\t\t\tcontinue\n",
        "\t\t# загружаем лица в суб директорию\n",
        "\t\tfaces = load_faces(path)\n",
        "\t\t# классы\n",
        "\t\tlabels = [subdir for _ in range(len(faces))]\n",
        "\t\t\n",
        "\t\tprint('>загружено %d фотографий для класса: %s' % (len(faces), subdir))\n",
        "\t\t# сохраняем\n",
        "\t\tX.extend(faces)\n",
        "\t\ty.extend(labels)\n",
        "\treturn asarray(X), asarray(y)"
      ],
      "execution_count": null,
      "outputs": []
    },
    {
      "cell_type": "code",
      "metadata": {
        "id": "ViXIJONYnKF5",
        "outputId": "86531cb1-1aa9-4fc2-f028-9f5786469ca4",
        "colab": {
          "base_uri": "https://localhost:8080/",
          "height": 1000
        }
      },
      "source": [
        "# загружаем обучающий сет\n",
        "trainX, trainy = load_dataset('/content/drive/My Drive/newfacesdata/train/')\n",
        "print(trainX.shape, trainy.shape)\n",
        "\n",
        " # загружаем проверочный сет\n",
        "testX, testy = load_dataset('/content/drive/My Drive/newfacesdata/test/')\n",
        "# сохраняем масивы в один файл\n",
        "savez_compressed('facedatasat.npz', trainX, trainy, testX, testy)"
      ],
      "execution_count": null,
      "outputs": [
        {
          "output_type": "stream",
          "text": [
            "WARNING:tensorflow:From /usr/local/lib/python3.6/dist-packages/keras/backend/tensorflow_backend.py:66: The name tf.get_default_graph is deprecated. Please use tf.compat.v1.get_default_graph instead.\n",
            "\n",
            "WARNING:tensorflow:From /usr/local/lib/python3.6/dist-packages/keras/backend/tensorflow_backend.py:541: The name tf.placeholder is deprecated. Please use tf.compat.v1.placeholder instead.\n",
            "\n",
            "WARNING:tensorflow:From /usr/local/lib/python3.6/dist-packages/keras/backend/tensorflow_backend.py:4432: The name tf.random_uniform is deprecated. Please use tf.random.uniform instead.\n",
            "\n",
            "WARNING:tensorflow:From /usr/local/lib/python3.6/dist-packages/keras/backend/tensorflow_backend.py:4267: The name tf.nn.max_pool is deprecated. Please use tf.nn.max_pool2d instead.\n",
            "\n",
            "WARNING:tensorflow:From /usr/local/lib/python3.6/dist-packages/keras/backend/tensorflow_backend.py:190: The name tf.get_default_session is deprecated. Please use tf.compat.v1.get_default_session instead.\n",
            "\n",
            "WARNING:tensorflow:From /usr/local/lib/python3.6/dist-packages/keras/backend/tensorflow_backend.py:197: The name tf.ConfigProto is deprecated. Please use tf.compat.v1.ConfigProto instead.\n",
            "\n",
            "WARNING:tensorflow:From /usr/local/lib/python3.6/dist-packages/keras/backend/tensorflow_backend.py:203: The name tf.Session is deprecated. Please use tf.compat.v1.Session instead.\n",
            "\n",
            "WARNING:tensorflow:From /usr/local/lib/python3.6/dist-packages/keras/backend/tensorflow_backend.py:207: The name tf.global_variables is deprecated. Please use tf.compat.v1.global_variables instead.\n",
            "\n",
            "WARNING:tensorflow:From /usr/local/lib/python3.6/dist-packages/keras/backend/tensorflow_backend.py:216: The name tf.is_variable_initialized is deprecated. Please use tf.compat.v1.is_variable_initialized instead.\n",
            "\n",
            "WARNING:tensorflow:From /usr/local/lib/python3.6/dist-packages/keras/backend/tensorflow_backend.py:223: The name tf.variables_initializer is deprecated. Please use tf.compat.v1.variables_initializer instead.\n",
            "\n",
            ">загружено 5 фотографий для класса: helen_0074\n",
            ">загружено 5 фотографий для класса: niv1604\n",
            ">загружено 5 фотографий для класса: al_men_duke\n",
            ">загружено 5 фотографий для класса: burketsovi\n",
            ">загружено 5 фотографий для класса: oseledetsproduction\n",
            ">загружено 5 фотографий для класса: killa_inky\n",
            ">загружено 5 фотографий для класса: kolyanizotov\n",
            ">загружено 5 фотографий для класса: odeebang\n",
            ">загружено 5 фотографий для класса: kr1ger\n",
            ">загружено 5 фотографий для класса: pavel\n",
            ">загружено 5 фотографий для класса: anutich83\n",
            ">загружено 5 фотографий для класса: natayakim\n",
            ">загружено 5 фотографий для класса: ezcape\n",
            ">загружено 5 фотографий для класса: shtuka_ivan\n",
            ">загружено 5 фотографий для класса: lutcenko_roman\n",
            ">загружено 5 фотографий для класса: evgeny\n",
            ">загружено 5 фотографий для класса: ruslan\n",
            ">загружено 5 фотографий для класса: viktor.thefirst\n",
            ">загружено 5 фотографий для класса: yulyana\n",
            "(95, 160, 160, 3) (95,)\n",
            ">загружено 2 фотографий для класса: oseledetsproduction\n",
            ">загружено 2 фотографий для класса: killa_inky\n",
            ">загружено 2 фотографий для класса: kr1ger\n",
            ">загружено 2 фотографий для класса: odeebang\n",
            ">загружено 2 фотографий для класса: kolyanizotov\n",
            ">загружено 2 фотографий для класса: burketsovi\n",
            ">загружено 2 фотографий для класса: helen_0074\n",
            ">загружено 2 фотографий для класса: ezcape\n",
            ">загружено 2 фотографий для класса: natayakim\n",
            ">загружено 2 фотографий для класса: lutcenko_roman\n",
            ">загружено 2 фотографий для класса: al_men_duke\n",
            ">загружено 2 фотографий для класса: niv1604\n",
            ">загружено 2 фотографий для класса: pavel\n",
            ">загружено 2 фотографий для класса: anutich83\n",
            ">загружено 2 фотографий для класса: shtuka_ivan\n",
            ">загружено 2 фотографий для класса: evgeny\n",
            ">загружено 2 фотографий для класса: ruslan\n",
            ">загружено 2 фотографий для класса: viktor.thefirst\n",
            ">загружено 2 фотографий для класса: yulyana\n"
          ],
          "name": "stdout"
        }
      ]
    },
    {
      "cell_type": "markdown",
      "metadata": {
        "id": "PLYYJkxKoFkg"
      },
      "source": [
        "##функция превращения в embedding векторы"
      ]
    },
    {
      "cell_type": "code",
      "metadata": {
        "id": "2_QzL1ZsqU3E"
      },
      "source": [
        "def get_embedding(model, face_pixels):\n",
        "\t# масшатбируем пиксельные данные\n",
        "\tface_pixels = face_pixels.astype('float32')\n",
        "\t\n",
        "\tmean, std = face_pixels.mean(), face_pixels.std()\n",
        "\tface_pixels = (face_pixels - mean) / std\n",
        "\t\n",
        "\tsamples = expand_dims(face_pixels, axis=0)\n",
        "\t# получаем embedding вектор\n",
        "\tyhat = model.predict(samples)\n",
        "\treturn yhat[0]"
      ],
      "execution_count": null,
      "outputs": []
    },
    {
      "cell_type": "code",
      "metadata": {
        "id": "R25J4yxvqZW1",
        "outputId": "ffbc9210-e8c4-44dd-d436-de14760d530b",
        "colab": {
          "base_uri": "https://localhost:8080/",
          "height": 250
        }
      },
      "source": [
        "# загружаем лица\n",
        "    \n",
        "data = load('facedatasat.npz')\n",
        "trainX, trainy, testX, testy = data['arr_0'], data['arr_1'], data['arr_2'], data['arr_3']\n",
        "print('Загруженны данные размером: ', trainX.shape, trainy.shape, testX.shape, testy.shape)\n",
        "# загружаем  facenet модель\n",
        "\n",
        "model = load_model('/content/drive/My Drive/facenet_keras.h5')\n",
        "print('Сеть загруженна')\n",
        "\n",
        "# получаем embedding вектора в обучающем сете\n",
        "newTrainX = list()\n",
        "for face_pixels in trainX:\n",
        "\tembedding = get_embedding(model, face_pixels)\n",
        "\tnewTrainX.append(embedding)\n",
        "newTrainX = asarray(newTrainX)\n",
        "print(newTrainX.shape)"
      ],
      "execution_count": null,
      "outputs": [
        {
          "output_type": "stream",
          "text": [
            "Загруженны данные размером:  (95, 160, 160, 3) (95,) (38, 160, 160, 3) (38,)\n",
            "WARNING:tensorflow:From /usr/local/lib/python3.6/dist-packages/keras/backend/tensorflow_backend.py:2041: The name tf.nn.fused_batch_norm is deprecated. Please use tf.compat.v1.nn.fused_batch_norm instead.\n",
            "\n",
            "WARNING:tensorflow:From /usr/local/lib/python3.6/dist-packages/keras/backend/tensorflow_backend.py:148: The name tf.placeholder_with_default is deprecated. Please use tf.compat.v1.placeholder_with_default instead.\n",
            "\n",
            "WARNING:tensorflow:From /usr/local/lib/python3.6/dist-packages/keras/backend/tensorflow_backend.py:3733: calling dropout (from tensorflow.python.ops.nn_ops) with keep_prob is deprecated and will be removed in a future version.\n",
            "Instructions for updating:\n",
            "Please use `rate` instead of `keep_prob`. Rate should be set to `rate = 1 - keep_prob`.\n"
          ],
          "name": "stdout"
        },
        {
          "output_type": "stream",
          "text": [
            "/usr/local/lib/python3.6/dist-packages/keras/engine/saving.py:310: UserWarning: No training configuration found in save file: the model was *not* compiled. Compile it manually.\n",
            "  warnings.warn('No training configuration found in save file: '\n"
          ],
          "name": "stderr"
        },
        {
          "output_type": "stream",
          "text": [
            "Сеть загруженна\n",
            "(95, 128)\n"
          ],
          "name": "stdout"
        }
      ]
    },
    {
      "cell_type": "code",
      "metadata": {
        "id": "bdErMAmyrfsQ",
        "outputId": "4287c815-152c-445f-d618-da19b5b27617",
        "colab": {
          "base_uri": "https://localhost:8080/",
          "height": 34
        }
      },
      "source": [
        "# получаем embedding вектора в проверочном сете\n",
        "\n",
        "newTestX = list()\n",
        "for face_pixels in testX:\n",
        "\tembedding = get_embedding(model, face_pixels)\n",
        "\tnewTestX.append(embedding)\n",
        "newTestX = asarray(newTestX)\n",
        "print(newTestX.shape)\n",
        "\n",
        "# сохраняем все данные\n",
        "savez_compressed('facedatasat.npz-embeddings.npz', newTrainX, trainy, newTestX, testy)"
      ],
      "execution_count": null,
      "outputs": [
        {
          "output_type": "stream",
          "text": [
            "(38, 128)\n"
          ],
          "name": "stdout"
        }
      ]
    },
    {
      "cell_type": "code",
      "metadata": {
        "id": "KY_AX1Fvr580",
        "outputId": "a820b246-3963-4ec2-d4bf-eef0c136c055",
        "colab": {
          "base_uri": "https://localhost:8080/",
          "height": 34
        }
      },
      "source": [
        "# загружаем\n",
        "data = load('facedatasat.npz-embeddings.npz')\n",
        "trainX, trainy, testX, testy = data['arr_0'], data['arr_1'], data['arr_2'], data['arr_3']\n",
        "print('Dataset: train=%d, test=%d' % (trainX.shape[0], testX.shape[0]))\n",
        "# нормализуем\n",
        "in_encoder = Normalizer(norm='l2')\n",
        "trainX = in_encoder.transform(trainX)\n",
        "testX = in_encoder.transform(testX)\n",
        "# кодируем лэйблы\n",
        "out_encoder = LabelEncoder()\n",
        "out_encoder.fit(trainy)\n",
        "trainy = out_encoder.transform(trainy)\n",
        "testy = out_encoder.transform(testy)"
      ],
      "execution_count": null,
      "outputs": [
        {
          "output_type": "stream",
          "text": [
            "Dataset: train=95, test=38\n"
          ],
          "name": "stdout"
        }
      ]
    },
    {
      "cell_type": "markdown",
      "metadata": {
        "id": "Ri1kgl42o0HG"
      },
      "source": [
        "#Финальная сеть"
      ]
    },
    {
      "cell_type": "code",
      "metadata": {
        "id": "flv9f5XVsRVL"
      },
      "source": [
        "model1=Sequential()\n",
        "model1.add(Dense(100,activation='relu',input_dim=128))\n",
        "model1.add(Dense(200,activation='relu'))\n",
        "model1.add(Dense(19,activation='sigmoid'))"
      ],
      "execution_count": null,
      "outputs": []
    },
    {
      "cell_type": "code",
      "metadata": {
        "id": "QmZxsa2OwowS"
      },
      "source": [
        "model1.compile(optimizer='rmsprop',\n",
        "              loss='sparse_categorical_crossentropy',\n",
        "              metrics=['sparse_categorical_accuracy'])"
      ],
      "execution_count": null,
      "outputs": []
    },
    {
      "cell_type": "code",
      "metadata": {
        "id": "wrZpc86Ow6LM",
        "outputId": "72678d73-f562-4fa2-8ee8-a92839b4e12a",
        "colab": {
          "base_uri": "https://localhost:8080/",
          "height": 727
        }
      },
      "source": [
        "history=model1.fit(trainX,trainy, epochs=20)"
      ],
      "execution_count": null,
      "outputs": [
        {
          "output_type": "stream",
          "text": [
            "Epoch 1/20\n",
            "95/95 [==============================] - 12s 126ms/step - loss: 2.9355 - sparse_categorical_accuracy: 0.0947\n",
            "Epoch 2/20\n",
            "95/95 [==============================] - 0s 403us/step - loss: 2.8893 - sparse_categorical_accuracy: 0.4632\n",
            "Epoch 3/20\n",
            "95/95 [==============================] - 0s 283us/step - loss: 2.8484 - sparse_categorical_accuracy: 0.7158\n",
            "Epoch 4/20\n",
            "95/95 [==============================] - 0s 283us/step - loss: 2.8078 - sparse_categorical_accuracy: 0.8105\n",
            "Epoch 5/20\n",
            "95/95 [==============================] - 0s 222us/step - loss: 2.7607 - sparse_categorical_accuracy: 0.8737\n",
            "Epoch 6/20\n",
            "95/95 [==============================] - 0s 224us/step - loss: 2.7096 - sparse_categorical_accuracy: 0.8842\n",
            "Epoch 7/20\n",
            "95/95 [==============================] - 0s 235us/step - loss: 2.6515 - sparse_categorical_accuracy: 0.8737\n",
            "Epoch 8/20\n",
            "95/95 [==============================] - 0s 246us/step - loss: 2.5841 - sparse_categorical_accuracy: 0.9474\n",
            "Epoch 9/20\n",
            "95/95 [==============================] - 0s 253us/step - loss: 2.5076 - sparse_categorical_accuracy: 0.8947\n",
            "Epoch 10/20\n",
            "95/95 [==============================] - 0s 229us/step - loss: 2.4117 - sparse_categorical_accuracy: 0.9263\n",
            "Epoch 11/20\n",
            "95/95 [==============================] - 0s 207us/step - loss: 2.2940 - sparse_categorical_accuracy: 0.9263\n",
            "Epoch 12/20\n",
            "95/95 [==============================] - 0s 236us/step - loss: 2.1616 - sparse_categorical_accuracy: 0.8947\n",
            "Epoch 13/20\n",
            "95/95 [==============================] - 0s 241us/step - loss: 2.0002 - sparse_categorical_accuracy: 0.9474\n",
            "Epoch 14/20\n",
            "95/95 [==============================] - 0s 248us/step - loss: 1.8239 - sparse_categorical_accuracy: 0.9474\n",
            "Epoch 15/20\n",
            "95/95 [==============================] - 0s 254us/step - loss: 1.6470 - sparse_categorical_accuracy: 0.9789\n",
            "Epoch 16/20\n",
            "95/95 [==============================] - 0s 249us/step - loss: 1.4841 - sparse_categorical_accuracy: 0.9684\n",
            "Epoch 17/20\n",
            "95/95 [==============================] - 0s 265us/step - loss: 1.3112 - sparse_categorical_accuracy: 0.9895\n",
            "Epoch 18/20\n",
            "95/95 [==============================] - 0s 257us/step - loss: 1.1744 - sparse_categorical_accuracy: 0.9895\n",
            "Epoch 19/20\n",
            "95/95 [==============================] - 0s 244us/step - loss: 1.0276 - sparse_categorical_accuracy: 0.9895\n",
            "Epoch 20/20\n",
            "95/95 [==============================] - 0s 256us/step - loss: 0.9244 - sparse_categorical_accuracy: 0.9895\n"
          ],
          "name": "stdout"
        }
      ]
    },
    {
      "cell_type": "code",
      "metadata": {
        "id": "ev53cNp_x5Vl",
        "outputId": "70c2154f-2630-4fda-c501-6532a0dea1bf",
        "colab": {
          "base_uri": "https://localhost:8080/",
          "height": 52
        }
      },
      "source": [
        "test_loss, test_acc = model1.evaluate(testX,testy, verbose=2)\n",
        "\n",
        "print('\\nТочность на проверочных данных:', test_acc)"
      ],
      "execution_count": null,
      "outputs": [
        {
          "output_type": "stream",
          "text": [
            "\n",
            "Точность на проверочных данных: 0.8421052600208082\n"
          ],
          "name": "stdout"
        }
      ]
    },
    {
      "cell_type": "markdown",
      "metadata": {
        "id": "7X02GhglpH7r"
      },
      "source": [
        "##функция получения embedding вектора для проверочной фотографии"
      ]
    },
    {
      "cell_type": "code",
      "metadata": {
        "id": "2_s5JCthGpVa"
      },
      "source": [
        "def get_embedding_unk(model, face_unk):\n",
        "\tface_unk = face_unk.astype('float32')\n",
        "\tmean, std = face_unk.mean(), face_unk.std()\n",
        "\tface_unk = (face_unk - mean) / std\n",
        "\tsample = expand_dims(face_unk, axis=0)\n",
        "\tyhat = model.predict(sample)\n",
        "\treturn yhat[0]"
      ],
      "execution_count": null,
      "outputs": []
    },
    {
      "cell_type": "code",
      "metadata": {
        "id": "u-aqycb3CEpF"
      },
      "source": [
        "unknown='/content/drive/My Drive/unknow.jpg' #путь к фотографии для проверки\n",
        "#!!!!!добавить вывод изображения!!!!"
      ],
      "execution_count": null,
      "outputs": []
    },
    {
      "cell_type": "code",
      "metadata": {
        "id": "KUKTx0vADLNz",
        "outputId": "b679e40a-1938-460a-919f-051206138975",
        "colab": {
          "base_uri": "https://localhost:8080/",
          "height": 304
        }
      },
      "source": [
        "#извлекаем вектор лица и превращаем в embedding\n",
        "face_unk=extract_face(unknown,required_size=(160,160))\n",
        "emb_unkn=get_embedding_unk(model,face_unk)\n",
        "\n",
        "\n",
        "\n",
        "#загружаем в сеть\n",
        "person=model1.predict(emb_unkn.reshape(1,-1))\n",
        "#считаем вероятность\n",
        "proba=max(person.reshape(-1,1))*100\n",
        "#получаем имя класса\n",
        "name=out_encoder.inverse_transform(np.argmax(person.reshape(-1,1),axis=0))[0]\n",
        "\n",
        "folder='/content/drive/My Drive/newfacesdata/test/%s' % (name)\n",
        "\n",
        "#выводим случайную картинку класса который определила сеть\n",
        "a=random.choice(os.listdir(folder))\n",
        "file = folder+'/'+a\n",
        "im=Image.open(file)\n",
        "size = 300, 300\n",
        "im.thumbnail(size)\n",
        "\n",
        "\n",
        "if proba>75.0:\n",
        "  \n",
        "\n",
        "  plt.imshow(im)\n",
        "  plt.show()\n",
        "  print('C вероятностью %f процентов это % s'% (proba[0],name))\n",
        "\n",
        "  \n",
        "else:\n",
        "  print('Данный человек отсутствует в базе')\n"
      ],
      "execution_count": null,
      "outputs": [
        {
          "output_type": "display_data",
          "data": {
            "image/png": "[encoded data removed]",
            "text/plain": [
              "<Figure size 432x288 with 1 Axes>"
            ]
          },
          "metadata": {
            "tags": []
          }
        },
        {
          "output_type": "stream",
          "text": [
            "C веротностью 79.079857 процентов это ruslan\n",
            "ruslan\n"
          ],
          "name": "stdout"
        }
      ]
    }
  ]
}