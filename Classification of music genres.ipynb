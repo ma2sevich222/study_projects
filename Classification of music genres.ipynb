{
  "nbformat": 4,
  "nbformat_minor": 0,
  "metadata": {
    "colab": {
      "provenance": [],
      "authorship_tag": "ABX9TyMRpNxopa7DnHP/crL8Zgq7",
      "include_colab_link": true
    },
    "kernelspec": {
      "name": "python3",
      "display_name": "Python 3"
    }
  },
  "cells": [
    {
      "cell_type": "markdown",
      "metadata": {
        "id": "view-in-github",
        "colab_type": "text"
      },
      "source": [
        "<a href=\"https://colab.research.google.com/github/ma2sevich222/study_projects/blob/main/Classification%20of%20music%20genres.ipynb\" target=\"_parent\"><img src=\"https://colab.research.google.com/assets/colab-badge.svg\" alt=\"Open In Colab\"/></a>"
      ]
    },
    {
      "cell_type": "code",
      "metadata": {
        "id": "muyY6QKvDFj1",
        "outputId": "a5dd673f-0cdd-4c6f-eefd-b6a179543b4a",
        "colab": {
          "base_uri": "https://localhost:8080/",
          "height": 81
        }
      },
      "source": [
        "from google.colab import files #Загрузка файлов\n",
        "from tensorflow.keras import utils #Для to_categorical\n",
        "import os #Работа с папками и файлами\n",
        "import librosa #Параметризация аудио\n",
        "import numpy as np #Numpy массивы\n",
        "import matplotlib.pyplot as plt #Отображение графиков\n",
        "#Отрисовка графиков в ячейках collab\n",
        "%matplotlib inline \n",
        "\n",
        "from keras.optimizers import Adam, RMSprop, Adadelta #Оптимизатор для задания шага обучения\n",
        "from keras.models import Sequential, Model #Два формата модели keras\n",
        "from keras.layers import concatenate, Input, Dense, Dropout, BatchNormalization, Flatten, Conv1D, Conv2D, CuDNNLSTM, MaxPooling1D #Базовые слови\n",
        "from sklearn.model_selection import train_test_split #Разбиение на обучающую и проверочную выборку\n",
        "from sklearn.preprocessing import LabelEncoder, StandardScaler #Для нормировки данных\n",
        "\n",
        "#Отключаем предупреждения\n",
        "import warnings\n",
        "warnings.filterwarnings('ignore')"
      ],
      "execution_count": null,
      "outputs": [
        {
          "output_type": "display_data",
          "data": {
            "text/html": [
              "<p style=\"color: red;\">\n",
              "The default version of TensorFlow in Colab will soon switch to TensorFlow 2.x.<br>\n",
              "We recommend you <a href=\"https://www.tensorflow.org/guide/migrate\" target=\"_blank\">upgrade</a> now \n",
              "or ensure your notebook will continue to use TensorFlow 1.x via the <code>%tensorflow_version 1.x</code> magic:\n",
              "<a href=\"https://colab.research.google.com/notebooks/tensorflow_version.ipynb\" target=\"_blank\">more info</a>.</p>\n"
            ],
            "text/plain": [
              "<IPython.core.display.HTML object>"
            ]
          },
          "metadata": {
            "tags": []
          }
        },
        {
          "output_type": "stream",
          "text": [
            "Using TensorFlow backend.\n"
          ],
          "name": "stderr"
        }
      ]
    },
    {
      "cell_type": "code",
      "metadata": {
        "id": "edLDobCWDh20",
        "outputId": "2521dc5c-4f77-4b3a-a5e6-449e5210d869",
        "colab": {
          "base_uri": "https://localhost:8080/",
          "height": 125
        }
      },
      "source": [
        "from google.colab import drive\n",
        "drive.mount('/content/drive')"
      ],
      "execution_count": null,
      "outputs": [
        {
          "output_type": "stream",
          "text": [
            "Go to this URL in a browser: https://accounts.google.com/o/oauth2/auth?client_id=947318989803-6bn6qk8qdgf4n4g3pfee6491hc0brc4i.apps.googleusercontent.com&redirect_uri=urn%3aietf%3awg%3aoauth%3a2.0%3aoob&response_type=code&scope=email%20https%3a%2f%2fwww.googleapis.com%2fauth%2fdocs.test%20https%3a%2f%2fwww.googleapis.com%2fauth%2fdrive%20https%3a%2f%2fwww.googleapis.com%2fauth%2fdrive.photos.readonly%20https%3a%2f%2fwww.googleapis.com%2fauth%2fpeopleapi.readonly\n",
            "\n",
            "Enter your authorization code:\n",
            "··········\n",
            "Mounted at /content/drive\n"
          ],
          "name": "stdout"
        }
      ]
    },
    {
      "cell_type": "code",
      "metadata": {
        "id": "vcJEZ-h5Dixg",
        "colab": {
          "base_uri": "https://localhost:8080/",
          "height": 390
        },
        "outputId": "7f001361-6b7a-4e76-90db-a3ba0b1f564a"
      },
      "source": [
        "import zipfile #Для разорхивации базы\n",
        "\n",
        "#Разорхивируем архив с базой\n",
        "z = zipfile.ZipFile('/content/drive/My Drive/genres.zip', 'r')\n",
        "z.extractall()\n",
        "\n",
        "#Задаём названия жанров\n",
        "#В архиве названия папок совпадают с названиями жанров\n",
        "genres = 'blues classical country disco hiphop jazz metal pop reggae rock'.split()\n",
        "\n",
        "#Проверяем выгруженные папки\n",
        "!ls genres \n",
        "#И одну из папок\n",
        "!ls genres/blues"
      ],
      "execution_count": null,
      "outputs": [
        {
          "output_type": "stream",
          "text": [
            "blues  classical  country  disco  hiphop  jazz\tmetal  pop  reggae  rock\n",
            "blues.00000.au\tblues.00020.au\tblues.00040.au\tblues.00060.au\tblues.00080.au\n",
            "blues.00001.au\tblues.00021.au\tblues.00041.au\tblues.00061.au\tblues.00081.au\n",
            "blues.00002.au\tblues.00022.au\tblues.00042.au\tblues.00062.au\tblues.00082.au\n",
            "blues.00003.au\tblues.00023.au\tblues.00043.au\tblues.00063.au\tblues.00083.au\n",
            "blues.00004.au\tblues.00024.au\tblues.00044.au\tblues.00064.au\tblues.00084.au\n",
            "blues.00005.au\tblues.00025.au\tblues.00045.au\tblues.00065.au\tblues.00085.au\n",
            "blues.00006.au\tblues.00026.au\tblues.00046.au\tblues.00066.au\tblues.00086.au\n",
            "blues.00007.au\tblues.00027.au\tblues.00047.au\tblues.00067.au\tblues.00087.au\n",
            "blues.00008.au\tblues.00028.au\tblues.00048.au\tblues.00068.au\tblues.00088.au\n",
            "blues.00009.au\tblues.00029.au\tblues.00049.au\tblues.00069.au\tblues.00089.au\n",
            "blues.00010.au\tblues.00030.au\tblues.00050.au\tblues.00070.au\tblues.00090.au\n",
            "blues.00011.au\tblues.00031.au\tblues.00051.au\tblues.00071.au\tblues.00091.au\n",
            "blues.00012.au\tblues.00032.au\tblues.00052.au\tblues.00072.au\tblues.00092.au\n",
            "blues.00013.au\tblues.00033.au\tblues.00053.au\tblues.00073.au\tblues.00093.au\n",
            "blues.00014.au\tblues.00034.au\tblues.00054.au\tblues.00074.au\tblues.00094.au\n",
            "blues.00015.au\tblues.00035.au\tblues.00055.au\tblues.00075.au\tblues.00095.au\n",
            "blues.00016.au\tblues.00036.au\tblues.00056.au\tblues.00076.au\tblues.00096.au\n",
            "blues.00017.au\tblues.00037.au\tblues.00057.au\tblues.00077.au\tblues.00097.au\n",
            "blues.00018.au\tblues.00038.au\tblues.00058.au\tblues.00078.au\tblues.00098.au\n",
            "blues.00019.au\tblues.00039.au\tblues.00059.au\tblues.00079.au\tblues.00099.au\n"
          ],
          "name": "stdout"
        }
      ]
    },
    {
      "cell_type": "code",
      "metadata": {
        "id": "LD4GWaKSDpnn"
      },
      "source": [
        "def get_features2(y, sr):\n",
        "  #Получаем различные параметры аудио\n",
        "  chroma_stft = librosa.feature.chroma_stft(y=y, sr=sr) #Частота цветности\n",
        "  rmse = np.mean(librosa.feature.rmse(y=y)) #Среднеквадратичная амплитуда\n",
        "  spec_cent = np.mean(librosa.feature.spectral_centroid(y=y, sr=sr)) #Спектральный центроид\n",
        "  spec_bw = np.mean(librosa.feature.spectral_bandwidth(y=y, sr=sr)) #Ширина полосы частот\n",
        "  rolloff = np.mean(librosa.feature.spectral_rolloff(y=y, sr=sr)) #Спектральный спад частоты\n",
        "  zcr = np.mean(librosa.feature.zero_crossing_rate(y)) #Пересечения нуля\n",
        "  mfcc = librosa.feature.mfcc(y=y, sr=sr) #Мел кепстральные коэффициенты\n",
        "  \n",
        "  #Добавляем все параметры в один список\n",
        "  out = []\n",
        "  out.append(rmse)\n",
        "  out.append(spec_cent)\n",
        "  out.append(spec_bw)\n",
        "  out.append(rolloff)\n",
        "  out.append(zcr)\n",
        "  \n",
        "  #По одному добавляем все Мел коэффициенты\n",
        "  for e in mfcc:\n",
        "    out.append(np.mean(e))\n",
        "\n",
        "  for e in chroma_stft:\n",
        "    out.append(np.mean(e))\n",
        "  \n",
        "  #Возвращаем получившийся список\n",
        "  return out"
      ],
      "execution_count": null,
      "outputs": []
    },
    {
      "cell_type": "code",
      "metadata": {
        "id": "9gW42pLmEEaz",
        "colab": {
          "base_uri": "https://localhost:8080/",
          "height": 194
        },
        "outputId": "5c0ec143-999d-4097-81d9-8eb6a6dfbc84"
      },
      "source": [
        "import time #Для подсчёта времени на обработку одного жанра\n",
        "\n",
        "#Формируем обучающую выборку\n",
        "#Создаём пустые листы\n",
        "X_train = []\n",
        "Y_train = []\n",
        "\n",
        "#Запоминаем время старта формирования выборки\n",
        "curr_time = time.time()\n",
        "\n",
        "#Проходим по всем жарнам\n",
        "for i in range(len(genres)):\n",
        "  g = genres[i] #Берём текущий жанр\n",
        "  #Проходим по файлам папки, соответствующей текущему жанру\n",
        "  for filename in os.listdir(f'./genres/{g}'):\n",
        "    #Получаем имя песни\n",
        "    songname = f'./genres/{g}/{filename}'\n",
        "    #Загружаем в y аудиосигнал\n",
        "    #Используем первые 30 секунд аудио\n",
        "    y, sr = librosa.load(songname, mono=True, duration=30)\n",
        "    #Превращаем сигнал в параметризованные данные\n",
        "    out = get_features2(y, sr)\n",
        "    \n",
        "    #Добавляем строку в X_train\n",
        "    X_train.append(out)\n",
        "    #Добавляем в Y_train номер жанра в формате ohe\n",
        "    Y_train.append(utils.to_categorical(i, len(genres)))\n",
        "\n",
        "  #Выводим информацию о готовности обработки базы\n",
        "  print(\"Жанр \", g, \" готов -> \", round(time.time() - curr_time), \"c\", sep=\"\")\n",
        "  curr_time = time.time()\n",
        "\n",
        "#Превращаем обучающую выборку на numpy массивы\n",
        "X_train = np.array(X_train)\n",
        "Y_train = np.array(Y_train)"
      ],
      "execution_count": null,
      "outputs": [
        {
          "output_type": "stream",
          "text": [
            "Жанр blues готов -> 107c\n",
            "Жанр classical готов -> 109c\n",
            "Жанр country готов -> 109c\n",
            "Жанр disco готов -> 109c\n",
            "Жанр hiphop готов -> 110c\n",
            "Жанр jazz готов -> 110c\n",
            "Жанр metal готов -> 107c\n",
            "Жанр pop готов -> 107c\n",
            "Жанр reggae готов -> 106c\n",
            "Жанр rock готов -> 106c\n"
          ],
          "name": "stdout"
        }
      ]
    },
    {
      "cell_type": "code",
      "metadata": {
        "id": "sHLyB-DuEiJn",
        "colab": {
          "base_uri": "https://localhost:8080/",
          "height": 514
        },
        "outputId": "c4c7f071-422f-4228-fde3-7cd936d85e39"
      },
      "source": [
        "X_train_backup = X_train.copy()\n",
        "Y_train_backup = Y_train.copy()\n",
        "X_train = X_train_backup.copy()\n",
        "Y_train = Y_train_backup.copy()\n",
        "y_train_class = np.argmax(Y_train, axis=1)\n",
        "print(y_train_class)"
      ],
      "execution_count": null,
      "outputs": [
        {
          "output_type": "stream",
          "text": [
            "[0 0 0 0 0 0 0 0 0 0 0 0 0 0 0 0 0 0 0 0 0 0 0 0 0 0 0 0 0 0 0 0 0 0 0 0 0\n",
            " 0 0 0 0 0 0 0 0 0 0 0 0 0 0 0 0 0 0 0 0 0 0 0 0 0 0 0 0 0 0 0 0 0 0 0 0 0\n",
            " 0 0 0 0 0 0 0 0 0 0 0 0 0 0 0 0 0 0 0 0 0 0 0 0 0 0 1 1 1 1 1 1 1 1 1 1 1\n",
            " 1 1 1 1 1 1 1 1 1 1 1 1 1 1 1 1 1 1 1 1 1 1 1 1 1 1 1 1 1 1 1 1 1 1 1 1 1\n",
            " 1 1 1 1 1 1 1 1 1 1 1 1 1 1 1 1 1 1 1 1 1 1 1 1 1 1 1 1 1 1 1 1 1 1 1 1 1\n",
            " 1 1 1 1 1 1 1 1 1 1 1 1 1 1 1 2 2 2 2 2 2 2 2 2 2 2 2 2 2 2 2 2 2 2 2 2 2\n",
            " 2 2 2 2 2 2 2 2 2 2 2 2 2 2 2 2 2 2 2 2 2 2 2 2 2 2 2 2 2 2 2 2 2 2 2 2 2\n",
            " 2 2 2 2 2 2 2 2 2 2 2 2 2 2 2 2 2 2 2 2 2 2 2 2 2 2 2 2 2 2 2 2 2 2 2 2 2\n",
            " 2 2 2 2 3 3 3 3 3 3 3 3 3 3 3 3 3 3 3 3 3 3 3 3 3 3 3 3 3 3 3 3 3 3 3 3 3\n",
            " 3 3 3 3 3 3 3 3 3 3 3 3 3 3 3 3 3 3 3 3 3 3 3 3 3 3 3 3 3 3 3 3 3 3 3 3 3\n",
            " 3 3 3 3 3 3 3 3 3 3 3 3 3 3 3 3 3 3 3 3 3 3 3 3 3 3 3 3 3 3 4 4 4 4 4 4 4\n",
            " 4 4 4 4 4 4 4 4 4 4 4 4 4 4 4 4 4 4 4 4 4 4 4 4 4 4 4 4 4 4 4 4 4 4 4 4 4\n",
            " 4 4 4 4 4 4 4 4 4 4 4 4 4 4 4 4 4 4 4 4 4 4 4 4 4 4 4 4 4 4 4 4 4 4 4 4 4\n",
            " 4 4 4 4 4 4 4 4 4 4 4 4 4 4 4 4 4 4 4 5 5 5 5 5 5 5 5 5 5 5 5 5 5 5 5 5 5\n",
            " 5 5 5 5 5 5 5 5 5 5 5 5 5 5 5 5 5 5 5 5 5 5 5 5 5 5 5 5 5 5 5 5 5 5 5 5 5\n",
            " 5 5 5 5 5 5 5 5 5 5 5 5 5 5 5 5 5 5 5 5 5 5 5 5 5 5 5 5 5 5 5 5 5 5 5 5 5\n",
            " 5 5 5 5 5 5 5 5 6 6 6 6 6 6 6 6 6 6 6 6 6 6 6 6 6 6 6 6 6 6 6 6 6 6 6 6 6\n",
            " 6 6 6 6 6 6 6 6 6 6 6 6 6 6 6 6 6 6 6 6 6 6 6 6 6 6 6 6 6 6 6 6 6 6 6 6 6\n",
            " 6 6 6 6 6 6 6 6 6 6 6 6 6 6 6 6 6 6 6 6 6 6 6 6 6 6 6 6 6 6 6 6 6 6 7 7 7\n",
            " 7 7 7 7 7 7 7 7 7 7 7 7 7 7 7 7 7 7 7 7 7 7 7 7 7 7 7 7 7 7 7 7 7 7 7 7 7\n",
            " 7 7 7 7 7 7 7 7 7 7 7 7 7 7 7 7 7 7 7 7 7 7 7 7 7 7 7 7 7 7 7 7 7 7 7 7 7\n",
            " 7 7 7 7 7 7 7 7 7 7 7 7 7 7 7 7 7 7 7 7 7 7 7 8 8 8 8 8 8 8 8 8 8 8 8 8 8\n",
            " 8 8 8 8 8 8 8 8 8 8 8 8 8 8 8 8 8 8 8 8 8 8 8 8 8 8 8 8 8 8 8 8 8 8 8 8 8\n",
            " 8 8 8 8 8 8 8 8 8 8 8 8 8 8 8 8 8 8 8 8 8 8 8 8 8 8 8 8 8 8 8 8 8 8 8 8 8\n",
            " 8 8 8 8 8 8 8 8 8 8 8 8 9 9 9 9 9 9 9 9 9 9 9 9 9 9 9 9 9 9 9 9 9 9 9 9 9\n",
            " 9 9 9 9 9 9 9 9 9 9 9 9 9 9 9 9 9 9 9 9 9 9 9 9 9 9 9 9 9 9 9 9 9 9 9 9 9\n",
            " 9 9 9 9 9 9 9 9 9 9 9 9 9 9 9 9 9 9 9 9 9 9 9 9 9 9 9 9 9 9 9 9 9 9 9 9 9\n",
            " 9]\n"
          ],
          "name": "stdout"
        }
      ]
    },
    {
      "cell_type": "code",
      "metadata": {
        "id": "p3s9TTdcErQh",
        "colab": {
          "base_uri": "https://localhost:8080/",
          "height": 70
        },
        "outputId": "ef65f573-6a1c-421d-b6b6-4eb082933c79"
      },
      "source": [
        "print(X_train.shape)\n",
        "print(Y_train.shape)\n",
        "print(y_train_class.shape)"
      ],
      "execution_count": null,
      "outputs": [
        {
          "output_type": "stream",
          "text": [
            "(1000, 37)\n",
            "(1000, 10)\n",
            "(1000,)\n"
          ],
          "name": "stdout"
        }
      ]
    },
    {
      "cell_type": "code",
      "metadata": {
        "id": "IjOYGKViEwlk",
        "colab": {
          "base_uri": "https://localhost:8080/",
          "height": 212
        },
        "outputId": "cd2fa26c-3e8a-472c-b821-19ddfcff0e34"
      },
      "source": [
        "scaler = StandardScaler()\n",
        "#Номируем X_train\n",
        "X_train = scaler.fit_transform(np.array(X_train, dtype = float))\n",
        "X_train, X_test, y_train, y_test = train_test_split(X_train, y_train_class, test_size=0.1)\n",
        "print(X_train.shape)\n",
        "print(y_train.shape)\n",
        "print(X_test.shape)\n",
        "print(y_test.shape)\n",
        "print(X_train[0])"
      ],
      "execution_count": null,
      "outputs": [
        {
          "output_type": "stream",
          "text": [
            "(900, 37)\n",
            "(900,)\n",
            "(100, 37)\n",
            "(100,)\n",
            "[-1.02065883 -0.9657563  -0.74577961 -0.79589339 -0.90337547 -0.9912062\n",
            "  0.75983955 -0.30676647  0.15573504  0.62503777  0.91940956  0.82176379\n",
            "  0.67489183  0.81913227  0.15789048  0.51830358  0.34124296  0.21779292\n",
            "  0.29512301  0.08971374 -0.35533931  0.3151572  -0.61274072 -0.70293167\n",
            " -0.42331731  0.41352797  0.67737879  2.16020565  0.92426192  0.87120686\n",
            "  1.30912128  0.51844888  0.27880425  0.95134307  1.78510639  1.0911011\n",
            "  0.15482863]\n"
          ],
          "name": "stdout"
        }
      ]
    },
    {
      "cell_type": "markdown",
      "metadata": {
        "id": "IP3q9pRJ7jc5"
      },
      "source": [
        "##Попробуем оптимизировать гипер параметры сети из занятия"
      ]
    },
    {
      "cell_type": "markdown",
      "metadata": {
        "id": "9cfcdRkn7xqQ"
      },
      "source": [
        "#Оптимальный batch size"
      ]
    },
    {
      "cell_type": "code",
      "metadata": {
        "id": "fXtL9YAlQJqX"
      },
      "source": [
        "from sklearn.model_selection import GridSearchCV\n",
        "from keras.wrappers.scikit_learn import KerasClassifier"
      ],
      "execution_count": null,
      "outputs": []
    },
    {
      "cell_type": "code",
      "metadata": {
        "id": "Dez2iV3Mecnf"
      },
      "source": [
        "def create_model():\n",
        "\t\n",
        "  model = Sequential()\n",
        "  model.add(Dense(256, activation='elu', input_shape=(X_train.shape[1],)))\n",
        "  model.add(Dense(128, activation='elu'))\n",
        "  model.add(Dense(64, activation='elu'))\n",
        "  model.add(Dense(32, activation='elu'))\n",
        "\n",
        "  model.add(Dense(10, activation='softmax'))\n",
        "\n",
        "\n",
        "  model.compile(optimizer=RMSprop(lr=1e-4),\n",
        "              loss='sparse_categorical_crossentropy',\n",
        "              metrics=['accuracy'])\n",
        "\n",
        "\n",
        "  return model"
      ],
      "execution_count": null,
      "outputs": []
    },
    {
      "cell_type": "code",
      "metadata": {
        "id": "jehVgE4Qe1as",
        "colab": {
          "base_uri": "https://localhost:8080/",
          "height": 890
        },
        "outputId": "e89f44a7-5176-4a42-e604-23e971ae9877"
      },
      "source": [
        "\n",
        "model = KerasClassifier(build_fn=create_model, verbose=0)\n",
        "\n",
        "batch_size = [10, 20, 40, 60, 80, 100]\n",
        "epochs = [10, 50, 100]\n",
        "param_grid = dict(batch_size=batch_size, epochs=epochs)\n",
        "grid = GridSearchCV(estimator=model, param_grid=param_grid, n_jobs=-1, cv=3)\n",
        "grid_result = grid.fit(X_train,y_train)\n",
        "\n",
        "print(\"Лучший результат: %f using %s\" % (grid_result.best_score_, grid_result.best_params_))\n",
        "means = grid_result.cv_results_['mean_test_score']\n",
        "stds = grid_result.cv_results_['std_test_score']\n",
        "params = grid_result.cv_results_['params']\n",
        "for mean, stdev, param in zip(means, stds, params):\n",
        "    print(\"%f (%f) with: %r\" % (mean, stdev, param))"
      ],
      "execution_count": null,
      "outputs": [
        {
          "output_type": "stream",
          "text": [
            "WARNING:tensorflow:From /usr/local/lib/python3.6/dist-packages/keras/backend/tensorflow_backend.py:66: The name tf.get_default_graph is deprecated. Please use tf.compat.v1.get_default_graph instead.\n",
            "\n",
            "WARNING:tensorflow:From /usr/local/lib/python3.6/dist-packages/keras/backend/tensorflow_backend.py:541: The name tf.placeholder is deprecated. Please use tf.compat.v1.placeholder instead.\n",
            "\n",
            "WARNING:tensorflow:From /usr/local/lib/python3.6/dist-packages/keras/backend/tensorflow_backend.py:4432: The name tf.random_uniform is deprecated. Please use tf.random.uniform instead.\n",
            "\n",
            "WARNING:tensorflow:From /usr/local/lib/python3.6/dist-packages/keras/optimizers.py:793: The name tf.train.Optimizer is deprecated. Please use tf.compat.v1.train.Optimizer instead.\n",
            "\n",
            "WARNING:tensorflow:From /usr/local/lib/python3.6/dist-packages/keras/backend/tensorflow_backend.py:3622: The name tf.log is deprecated. Please use tf.math.log instead.\n",
            "\n",
            "WARNING:tensorflow:From /usr/local/lib/python3.6/dist-packages/tensorflow_core/python/ops/math_grad.py:1424: where (from tensorflow.python.ops.array_ops) is deprecated and will be removed in a future version.\n",
            "Instructions for updating:\n",
            "Use tf.where in 2.0, which has the same broadcast rule as np.where\n",
            "WARNING:tensorflow:From /usr/local/lib/python3.6/dist-packages/keras/backend/tensorflow_backend.py:1033: The name tf.assign_add is deprecated. Please use tf.compat.v1.assign_add instead.\n",
            "\n",
            "WARNING:tensorflow:From /usr/local/lib/python3.6/dist-packages/keras/backend/tensorflow_backend.py:1020: The name tf.assign is deprecated. Please use tf.compat.v1.assign instead.\n",
            "\n",
            "WARNING:tensorflow:From /usr/local/lib/python3.6/dist-packages/keras/backend/tensorflow_backend.py:3005: The name tf.Session is deprecated. Please use tf.compat.v1.Session instead.\n",
            "\n",
            "WARNING:tensorflow:From /usr/local/lib/python3.6/dist-packages/keras/backend/tensorflow_backend.py:190: The name tf.get_default_session is deprecated. Please use tf.compat.v1.get_default_session instead.\n",
            "\n",
            "WARNING:tensorflow:From /usr/local/lib/python3.6/dist-packages/keras/backend/tensorflow_backend.py:197: The name tf.ConfigProto is deprecated. Please use tf.compat.v1.ConfigProto instead.\n",
            "\n",
            "WARNING:tensorflow:From /usr/local/lib/python3.6/dist-packages/keras/backend/tensorflow_backend.py:207: The name tf.global_variables is deprecated. Please use tf.compat.v1.global_variables instead.\n",
            "\n",
            "WARNING:tensorflow:From /usr/local/lib/python3.6/dist-packages/keras/backend/tensorflow_backend.py:216: The name tf.is_variable_initialized is deprecated. Please use tf.compat.v1.is_variable_initialized instead.\n",
            "\n",
            "WARNING:tensorflow:From /usr/local/lib/python3.6/dist-packages/keras/backend/tensorflow_backend.py:223: The name tf.variables_initializer is deprecated. Please use tf.compat.v1.variables_initializer instead.\n",
            "\n",
            "Лучший результат: 0.638889 using {'batch_size': 20, 'epochs': 100}\n",
            "0.558889 (0.020062) with: {'batch_size': 10, 'epochs': 10}\n",
            "0.628889 (0.015947) with: {'batch_size': 10, 'epochs': 50}\n",
            "0.625556 (0.009558) with: {'batch_size': 10, 'epochs': 100}\n",
            "0.512222 (0.017498) with: {'batch_size': 20, 'epochs': 10}\n",
            "0.608889 (0.020428) with: {'batch_size': 20, 'epochs': 50}\n",
            "0.638889 (0.021999) with: {'batch_size': 20, 'epochs': 100}\n",
            "0.475556 (0.030348) with: {'batch_size': 40, 'epochs': 10}\n",
            "0.612222 (0.008315) with: {'batch_size': 40, 'epochs': 50}\n",
            "0.633333 (0.011863) with: {'batch_size': 40, 'epochs': 100}\n",
            "0.477778 (0.018122) with: {'batch_size': 60, 'epochs': 10}\n",
            "0.610000 (0.007201) with: {'batch_size': 60, 'epochs': 50}\n",
            "0.631111 (0.013699) with: {'batch_size': 60, 'epochs': 100}\n",
            "0.460000 (0.014402) with: {'batch_size': 80, 'epochs': 10}\n",
            "0.587778 (0.013426) with: {'batch_size': 80, 'epochs': 50}\n",
            "0.632222 (0.010999) with: {'batch_size': 80, 'epochs': 100}\n",
            "0.413333 (0.007201) with: {'batch_size': 100, 'epochs': 10}\n",
            "0.583333 (0.009813) with: {'batch_size': 100, 'epochs': 50}\n",
            "0.615556 (0.024696) with: {'batch_size': 100, 'epochs': 100}\n"
          ],
          "name": "stdout"
        }
      ]
    },
    {
      "cell_type": "markdown",
      "metadata": {
        "id": "lFvyROAK8JwM"
      },
      "source": [
        "#Оптимайзер"
      ]
    },
    {
      "cell_type": "code",
      "metadata": {
        "id": "5xsKWtR6kH3F"
      },
      "source": [
        "def create_model(optimizer='adam'):\n",
        "\t\n",
        "  model = Sequential()\n",
        "  model.add(Dense(256, activation='elu', input_shape=(X_train.shape[1],)))\n",
        "  model.add(Dense(128, activation='elu'))\n",
        "  model.add(Dense(64, activation='elu'))\n",
        "  model.add(Dense(32, activation='elu'))\n",
        "\n",
        "  model.add(Dense(10, activation='softmax'))\n",
        "\n",
        "\n",
        "  model.compile(optimizer=optimizer,\n",
        "              loss='sparse_categorical_crossentropy',\n",
        "              metrics=['accuracy'])\n",
        "\n",
        "\n",
        "  return model"
      ],
      "execution_count": null,
      "outputs": []
    },
    {
      "cell_type": "code",
      "metadata": {
        "id": "hCzoSsKykogl",
        "colab": {
          "base_uri": "https://localhost:8080/",
          "height": 158
        },
        "outputId": "8ca05d80-e105-49e6-d9ae-1829e37564f4"
      },
      "source": [
        "model = KerasClassifier(build_fn=create_model, epochs=100, batch_size=20, verbose=0)\n",
        "optimizer = ['SGD', 'RMSprop', 'Adagrad', 'Adadelta', 'Adam', 'Adamax', 'Nadam']\n",
        "param_grid = dict(optimizer=optimizer)\n",
        "grid = GridSearchCV(estimator=model, param_grid=param_grid, n_jobs=-1, cv=3)\n",
        "grid_result = grid.fit(X_train,y_train)\n",
        "print(\"Лучший результат: %f using %s\" % (grid_result.best_score_, grid_result.best_params_))\n",
        "means = grid_result.cv_results_['mean_test_score']\n",
        "stds = grid_result.cv_results_['std_test_score']\n",
        "params = grid_result.cv_results_['params']\n",
        "for mean, stdev, param in zip(means, stds, params):\n",
        "    print(\"%f (%f) with: %r\" % (mean, stdev, param))"
      ],
      "execution_count": null,
      "outputs": [
        {
          "output_type": "stream",
          "text": [
            "Лучший результат: 0.631111 using {'optimizer': 'Adam'}\n",
            "0.626667 (0.010887) with: {'optimizer': 'SGD'}\n",
            "0.608889 (0.017498) with: {'optimizer': 'RMSprop'}\n",
            "0.628889 (0.016630) with: {'optimizer': 'Adagrad'}\n",
            "0.581111 (0.031427) with: {'optimizer': 'Adadelta'}\n",
            "0.631111 (0.027933) with: {'optimizer': 'Adam'}\n",
            "0.628889 (0.019689) with: {'optimizer': 'Adamax'}\n",
            "0.404444 (0.195398) with: {'optimizer': 'Nadam'}\n"
          ],
          "name": "stdout"
        }
      ]
    },
    {
      "cell_type": "markdown",
      "metadata": {
        "id": "hv_lgF3g8YrF"
      },
      "source": [
        "#Learning rate и момент"
      ]
    },
    {
      "cell_type": "code",
      "metadata": {
        "id": "c16Fa-EKrYQV"
      },
      "source": [
        "def create_model(learn_rate=0.01, momentum=0):\n",
        "\t\n",
        "  model = Sequential()\n",
        "  model.add(Dense(256, activation='elu', input_shape=(X_train.shape[1],)))\n",
        "  model.add(Dense(128, activation='elu'))\n",
        "  model.add(Dense(64, activation='elu'))\n",
        "  model.add(Dense(32, activation='elu'))\n",
        "\n",
        "  model.add(Dense(10, activation='softmax'))\n",
        "\n",
        "\n",
        "  model.compile(optimizer='Adam',\n",
        "              loss='sparse_categorical_crossentropy',\n",
        "              metrics=['accuracy'])\n",
        "\n",
        "\n",
        "  return model"
      ],
      "execution_count": null,
      "outputs": []
    },
    {
      "cell_type": "code",
      "metadata": {
        "id": "RBhW-yVRsPnZ",
        "colab": {
          "base_uri": "https://localhost:8080/",
          "height": 567
        },
        "outputId": "41d9a6b1-df5c-449a-c0af-e49825329290"
      },
      "source": [
        "model = KerasClassifier(build_fn=create_model, epochs=100, batch_size=20, verbose=0)\n",
        "learn_rate = [0.001, 0.01, 0.1, 0.2, 0.3]\n",
        "momentum = [0.0, 0.2, 0.4, 0.6, 0.8, 0.9]\n",
        "param_grid = dict(learn_rate=learn_rate, momentum=momentum)\n",
        "grid = GridSearchCV(estimator=model, param_grid=param_grid, n_jobs=-1, cv=3)\n",
        "grid_result = grid.fit(X_train,y_train)\n",
        "print(\"Лучший результат: %f using %s\" % (grid_result.best_score_, grid_result.best_params_))\n",
        "means = grid_result.cv_results_['mean_test_score']\n",
        "stds = grid_result.cv_results_['std_test_score']\n",
        "params = grid_result.cv_results_['params']\n",
        "for mean, stdev, param in zip(means, stds, params):\n",
        "    print(\"%f (%f) with: %r\" % (mean, stdev, param))"
      ],
      "execution_count": null,
      "outputs": [
        {
          "output_type": "stream",
          "text": [
            "Лучший результат: 0.634444 using {'learn_rate': 0.3, 'momentum': 0.6}\n",
            "0.623333 (0.002722) with: {'learn_rate': 0.001, 'momentum': 0.0}\n",
            "0.616667 (0.015154) with: {'learn_rate': 0.001, 'momentum': 0.2}\n",
            "0.626667 (0.021257) with: {'learn_rate': 0.001, 'momentum': 0.4}\n",
            "0.615556 (0.032923) with: {'learn_rate': 0.001, 'momentum': 0.6}\n",
            "0.625556 (0.013966) with: {'learn_rate': 0.001, 'momentum': 0.8}\n",
            "0.607778 (0.008749) with: {'learn_rate': 0.001, 'momentum': 0.9}\n",
            "0.618889 (0.022662) with: {'learn_rate': 0.01, 'momentum': 0.0}\n",
            "0.615556 (0.020787) with: {'learn_rate': 0.01, 'momentum': 0.2}\n",
            "0.608889 (0.019689) with: {'learn_rate': 0.01, 'momentum': 0.4}\n",
            "0.621111 (0.010999) with: {'learn_rate': 0.01, 'momentum': 0.6}\n",
            "0.618889 (0.016630) with: {'learn_rate': 0.01, 'momentum': 0.8}\n",
            "0.620000 (0.025963) with: {'learn_rate': 0.01, 'momentum': 0.9}\n",
            "0.632222 (0.015713) with: {'learn_rate': 0.1, 'momentum': 0.0}\n",
            "0.605556 (0.009558) with: {'learn_rate': 0.1, 'momentum': 0.2}\n",
            "0.631111 (0.026152) with: {'learn_rate': 0.1, 'momentum': 0.4}\n",
            "0.617778 (0.027262) with: {'learn_rate': 0.1, 'momentum': 0.6}\n",
            "0.620000 (0.019626) with: {'learn_rate': 0.1, 'momentum': 0.8}\n",
            "0.608889 (0.012571) with: {'learn_rate': 0.1, 'momentum': 0.9}\n",
            "0.624444 (0.010999) with: {'learn_rate': 0.2, 'momentum': 0.0}\n",
            "0.618889 (0.015947) with: {'learn_rate': 0.2, 'momentum': 0.2}\n",
            "0.611111 (0.021140) with: {'learn_rate': 0.2, 'momentum': 0.4}\n",
            "0.622222 (0.032241) with: {'learn_rate': 0.2, 'momentum': 0.6}\n",
            "0.624444 (0.034030) with: {'learn_rate': 0.2, 'momentum': 0.8}\n",
            "0.617778 (0.026152) with: {'learn_rate': 0.2, 'momentum': 0.9}\n",
            "0.614444 (0.018122) with: {'learn_rate': 0.3, 'momentum': 0.0}\n",
            "0.614444 (0.001571) with: {'learn_rate': 0.3, 'momentum': 0.2}\n",
            "0.630000 (0.009813) with: {'learn_rate': 0.3, 'momentum': 0.4}\n",
            "0.634444 (0.026851) with: {'learn_rate': 0.3, 'momentum': 0.6}\n",
            "0.622222 (0.007857) with: {'learn_rate': 0.3, 'momentum': 0.8}\n",
            "0.606667 (0.024944) with: {'learn_rate': 0.3, 'momentum': 0.9}\n"
          ],
          "name": "stdout"
        }
      ]
    },
    {
      "cell_type": "markdown",
      "metadata": {
        "id": "lNhI0lTn8i8-"
      },
      "source": [
        "#Функции активации"
      ]
    },
    {
      "cell_type": "code",
      "metadata": {
        "id": "VOxZziKl3K8w"
      },
      "source": [
        "def create_model(activation='relu'):\n",
        "\t\n",
        "  model = Sequential()\n",
        "  model.add(Dense(256, activation=activation, input_shape=(X_train.shape[1],)))\n",
        "  model.add(Dense(128, activation=activation))\n",
        "  model.add(Dense(64, activation=activation))\n",
        "  model.add(Dense(32, activation=activation))\n",
        "\n",
        "  model.add(Dense(10, activation='softmax'))\n",
        "\n",
        "  model.compile(optimizer='Adam',\n",
        "              loss='sparse_categorical_crossentropy',\n",
        "              metrics=['accuracy'])\n",
        "\n",
        "\n",
        "  return model"
      ],
      "execution_count": null,
      "outputs": []
    },
    {
      "cell_type": "code",
      "metadata": {
        "id": "sEaSIlIo3cfr",
        "colab": {
          "base_uri": "https://localhost:8080/",
          "height": 194
        },
        "outputId": "fa0559a9-13fa-4840-c651-e678b6500d2f"
      },
      "source": [
        "model = KerasClassifier(build_fn=create_model, epochs=100, batch_size=20, verbose=0)\n",
        "\n",
        "activation = ['softmax', 'softplus', 'softsign', 'relu', 'tanh', 'sigmoid', 'hard_sigmoid', 'linear','elu']\n",
        "param_grid = dict(activation=activation)\n",
        "grid = GridSearchCV(estimator=model, param_grid=param_grid, n_jobs=-1, cv=3)\n",
        "grid_result = grid.fit(X_train,y_train)\n",
        "print(\"Best: %f using %s\" % (grid_result.best_score_, grid_result.best_params_))\n",
        "means = grid_result.cv_results_['mean_test_score']\n",
        "stds = grid_result.cv_results_['std_test_score']\n",
        "params = grid_result.cv_results_['params']\n",
        "for mean, stdev, param in zip(means, stds, params):\n",
        "    print(\"%f (%f) with: %r\" % (mean, stdev, param))"
      ],
      "execution_count": null,
      "outputs": [
        {
          "output_type": "stream",
          "text": [
            "Best: 0.646667 using {'activation': 'tanh'}\n",
            "0.080000 (0.004714) with: {'activation': 'softmax'}\n",
            "0.618889 (0.035101) with: {'activation': 'softplus'}\n",
            "0.642222 (0.024545) with: {'activation': 'softsign'}\n",
            "0.627778 (0.023147) with: {'activation': 'relu'}\n",
            "0.646667 (0.010887) with: {'activation': 'tanh'}\n",
            "0.581111 (0.032241) with: {'activation': 'sigmoid'}\n",
            "0.584444 (0.025288) with: {'activation': 'hard_sigmoid'}\n",
            "0.583333 (0.019626) with: {'activation': 'linear'}\n",
            "0.600000 (0.024191) with: {'activation': 'elu'}\n"
          ],
          "name": "stdout"
        }
      ]
    },
    {
      "cell_type": "markdown",
      "metadata": {
        "id": "p7LeqTdc9ZV0"
      },
      "source": [
        "# Dropout и ограничения по весам"
      ]
    },
    {
      "cell_type": "code",
      "metadata": {
        "id": "Qq_S6Sn9DxrZ"
      },
      "source": [
        "from keras.constraints import maxnorm"
      ],
      "execution_count": null,
      "outputs": []
    },
    {
      "cell_type": "code",
      "metadata": {
        "id": "iOXPJHFJ9D-f"
      },
      "source": [
        "def create_model(dropout_rate=0.0,weight_constraint=0):\n",
        "\t\n",
        "  model = Sequential()\n",
        "  model.add(Dense(256, activation='elu', input_dim=(X_train.shape[1]),kernel_initializer='uniform',kernel_constraint=maxnorm(weight_constraint)))\n",
        "  model.add(Dense(128, activation='relu'))\n",
        "  model.add(Dropout(dropout_rate))\n",
        "  model.add(Dense(64, activation='relu'))\n",
        "  model.add(Dense(32, activation='relu'))\n",
        "\n",
        "  model.add(Dense(10, activation='softmax'))\n",
        "\n",
        "  model.compile(optimizer='Adam',\n",
        "              loss='sparse_categorical_crossentropy',\n",
        "              metrics=['accuracy'])\n",
        "\n",
        "\n",
        "  return model"
      ],
      "execution_count": null,
      "outputs": []
    },
    {
      "cell_type": "code",
      "metadata": {
        "id": "UbNMn0aB_Nc4",
        "colab": {
          "base_uri": "https://localhost:8080/",
          "height": 1000
        },
        "outputId": "23df9c57-17b0-412d-cc36-4f7bd6a00487"
      },
      "source": [
        "model = KerasClassifier(build_fn=create_model, epochs=100, batch_size=20, verbose=0)\n",
        "weight_constraint = [1, 2, 3, 4, 5]\n",
        "dropout_rate = [0.0, 0.1, 0.2, 0.3, 0.4, 0.5, 0.6, 0.7, 0.8, 0.9]\n",
        "param_grid = dict(dropout_rate=dropout_rate, weight_constraint=weight_constraint)\n",
        "grid = GridSearchCV(estimator=model, param_grid=param_grid, n_jobs=-1, cv=3)\n",
        "grid_result = grid.fit(X_train,y_train)\n",
        "print(\"Best: %f using %s\" % (grid_result.best_score_, grid_result.best_params_))\n",
        "means = grid_result.cv_results_['mean_test_score']\n",
        "stds = grid_result.cv_results_['std_test_score']\n",
        "params = grid_result.cv_results_['params']\n",
        "for mean, stdev, param in zip(means, stds, params):\n",
        "    print(\"%f (%f) with: %r\" % (mean, stdev, param))\n",
        "\n"
      ],
      "execution_count": null,
      "outputs": [
        {
          "output_type": "stream",
          "text": [
            "WARNING:tensorflow:From /usr/local/lib/python3.6/dist-packages/keras/backend/tensorflow_backend.py:148: The name tf.placeholder_with_default is deprecated. Please use tf.compat.v1.placeholder_with_default instead.\n",
            "\n",
            "WARNING:tensorflow:From /usr/local/lib/python3.6/dist-packages/keras/backend/tensorflow_backend.py:3733: calling dropout (from tensorflow.python.ops.nn_ops) with keep_prob is deprecated and will be removed in a future version.\n",
            "Instructions for updating:\n",
            "Please use `rate` instead of `keep_prob`. Rate should be set to `rate = 1 - keep_prob`.\n",
            "Best: 0.635556 using {'dropout_rate': 0.4, 'weight_constraint': 2}\n",
            "0.610000 (0.000000) with: {'dropout_rate': 0.0, 'weight_constraint': 1}\n",
            "0.614444 (0.015476) with: {'dropout_rate': 0.0, 'weight_constraint': 2}\n",
            "0.628889 (0.008315) with: {'dropout_rate': 0.0, 'weight_constraint': 3}\n",
            "0.617778 (0.028328) with: {'dropout_rate': 0.0, 'weight_constraint': 4}\n",
            "0.607778 (0.004157) with: {'dropout_rate': 0.0, 'weight_constraint': 5}\n",
            "0.611111 (0.024394) with: {'dropout_rate': 0.1, 'weight_constraint': 1}\n",
            "0.607778 (0.024394) with: {'dropout_rate': 0.1, 'weight_constraint': 2}\n",
            "0.602222 (0.005666) with: {'dropout_rate': 0.1, 'weight_constraint': 3}\n",
            "0.607778 (0.019689) with: {'dropout_rate': 0.1, 'weight_constraint': 4}\n",
            "0.612222 (0.026713) with: {'dropout_rate': 0.1, 'weight_constraint': 5}\n",
            "0.616667 (0.007201) with: {'dropout_rate': 0.2, 'weight_constraint': 1}\n",
            "0.612222 (0.018526) with: {'dropout_rate': 0.2, 'weight_constraint': 2}\n",
            "0.617778 (0.012273) with: {'dropout_rate': 0.2, 'weight_constraint': 3}\n",
            "0.627778 (0.024394) with: {'dropout_rate': 0.2, 'weight_constraint': 4}\n",
            "0.608889 (0.022825) with: {'dropout_rate': 0.2, 'weight_constraint': 5}\n",
            "0.623333 (0.026247) with: {'dropout_rate': 0.3, 'weight_constraint': 1}\n",
            "0.621111 (0.027262) with: {'dropout_rate': 0.3, 'weight_constraint': 2}\n",
            "0.625556 (0.020428) with: {'dropout_rate': 0.3, 'weight_constraint': 3}\n",
            "0.627778 (0.012571) with: {'dropout_rate': 0.3, 'weight_constraint': 4}\n",
            "0.613333 (0.014402) with: {'dropout_rate': 0.3, 'weight_constraint': 5}\n",
            "0.626667 (0.005443) with: {'dropout_rate': 0.4, 'weight_constraint': 1}\n",
            "0.635556 (0.001571) with: {'dropout_rate': 0.4, 'weight_constraint': 2}\n",
            "0.613333 (0.002722) with: {'dropout_rate': 0.4, 'weight_constraint': 3}\n",
            "0.610000 (0.010887) with: {'dropout_rate': 0.4, 'weight_constraint': 4}\n",
            "0.634444 (0.008315) with: {'dropout_rate': 0.4, 'weight_constraint': 5}\n",
            "0.632222 (0.015476) with: {'dropout_rate': 0.5, 'weight_constraint': 1}\n",
            "0.620000 (0.020548) with: {'dropout_rate': 0.5, 'weight_constraint': 2}\n",
            "0.634444 (0.006849) with: {'dropout_rate': 0.5, 'weight_constraint': 3}\n",
            "0.633333 (0.002722) with: {'dropout_rate': 0.5, 'weight_constraint': 4}\n",
            "0.635556 (0.020428) with: {'dropout_rate': 0.5, 'weight_constraint': 5}\n",
            "0.614444 (0.006849) with: {'dropout_rate': 0.6, 'weight_constraint': 1}\n",
            "0.623333 (0.009428) with: {'dropout_rate': 0.6, 'weight_constraint': 2}\n",
            "0.626667 (0.002722) with: {'dropout_rate': 0.6, 'weight_constraint': 3}\n",
            "0.613333 (0.013608) with: {'dropout_rate': 0.6, 'weight_constraint': 4}\n",
            "0.620000 (0.007201) with: {'dropout_rate': 0.6, 'weight_constraint': 5}\n",
            "0.625556 (0.013966) with: {'dropout_rate': 0.7, 'weight_constraint': 1}\n",
            "0.616667 (0.019626) with: {'dropout_rate': 0.7, 'weight_constraint': 2}\n",
            "0.617778 (0.012273) with: {'dropout_rate': 0.7, 'weight_constraint': 3}\n",
            "0.633333 (0.014402) with: {'dropout_rate': 0.7, 'weight_constraint': 4}\n",
            "0.622222 (0.013426) with: {'dropout_rate': 0.7, 'weight_constraint': 5}\n",
            "0.601111 (0.024696) with: {'dropout_rate': 0.8, 'weight_constraint': 1}\n",
            "0.621111 (0.010999) with: {'dropout_rate': 0.8, 'weight_constraint': 2}\n",
            "0.633333 (0.017847) with: {'dropout_rate': 0.8, 'weight_constraint': 3}\n",
            "0.602222 (0.020787) with: {'dropout_rate': 0.8, 'weight_constraint': 4}\n",
            "0.621111 (0.016405) with: {'dropout_rate': 0.8, 'weight_constraint': 5}\n",
            "0.515556 (0.018122) with: {'dropout_rate': 0.9, 'weight_constraint': 1}\n",
            "0.486667 (0.021257) with: {'dropout_rate': 0.9, 'weight_constraint': 2}\n",
            "0.521111 (0.053495) with: {'dropout_rate': 0.9, 'weight_constraint': 3}\n",
            "0.518889 (0.003143) with: {'dropout_rate': 0.9, 'weight_constraint': 4}\n",
            "0.504444 (0.029856) with: {'dropout_rate': 0.9, 'weight_constraint': 5}\n"
          ],
          "name": "stdout"
        }
      ]
    },
    {
      "cell_type": "markdown",
      "metadata": {
        "id": "rKHdGmA-NHhe"
      },
      "source": [
        "#Финальная модель"
      ]
    },
    {
      "cell_type": "code",
      "metadata": {
        "id": "xO09jZtfNGBH",
        "colab": {
          "base_uri": "https://localhost:8080/",
          "height": 1000
        },
        "outputId": "744fe79f-473b-47a6-fce6-291da375a82f"
      },
      "source": [
        "model = Sequential()\n",
        "model.add(Dense(256, activation='tanh', input_dim=(X_train.shape[1])))\n",
        "model.add(Dense(128, activation='tanh'))\n",
        "model.add(Dropout(0.4))\n",
        "model.add(Dense(64, activation='tanh'))\n",
        "model.add(Dense(32, activation='relu'))\n",
        "\n",
        "model.add(Dense(10, activation='softmax'))\n",
        "\n",
        "model.compile(optimizer='Adam',\n",
        "              loss='sparse_categorical_crossentropy',\n",
        "              metrics=['accuracy'])\n",
        "history = model.fit(X_train,\n",
        "                    y_train,\n",
        "                    epochs=100,\n",
        "                    batch_size=20,\n",
        "                    validation_data=(X_test, y_test))"
      ],
      "execution_count": null,
      "outputs": [
        {
          "output_type": "stream",
          "text": [
            "Train on 900 samples, validate on 100 samples\n",
            "Epoch 1/100\n",
            "900/900 [==============================] - 2s 2ms/step - loss: 1.9163 - acc: 0.3367 - val_loss: 1.6719 - val_acc: 0.3700\n",
            "Epoch 2/100\n",
            "900/900 [==============================] - 0s 145us/step - loss: 1.4651 - acc: 0.5033 - val_loss: 1.4141 - val_acc: 0.4500\n",
            "Epoch 3/100\n",
            "900/900 [==============================] - 0s 125us/step - loss: 1.2675 - acc: 0.5756 - val_loss: 1.3228 - val_acc: 0.5100\n",
            "Epoch 4/100\n",
            "900/900 [==============================] - 0s 135us/step - loss: 1.1551 - acc: 0.6178 - val_loss: 1.2110 - val_acc: 0.5800\n",
            "Epoch 5/100\n",
            "900/900 [==============================] - 0s 125us/step - loss: 1.0940 - acc: 0.6278 - val_loss: 1.1410 - val_acc: 0.6300\n",
            "Epoch 6/100\n",
            "900/900 [==============================] - 0s 137us/step - loss: 1.0292 - acc: 0.6578 - val_loss: 1.1080 - val_acc: 0.6100\n",
            "Epoch 7/100\n",
            "900/900 [==============================] - 0s 139us/step - loss: 0.9536 - acc: 0.6744 - val_loss: 1.1100 - val_acc: 0.6200\n",
            "Epoch 8/100\n",
            "900/900 [==============================] - 0s 138us/step - loss: 0.8973 - acc: 0.7067 - val_loss: 1.0455 - val_acc: 0.6100\n",
            "Epoch 9/100\n",
            "900/900 [==============================] - 0s 134us/step - loss: 0.8666 - acc: 0.7067 - val_loss: 1.0184 - val_acc: 0.6500\n",
            "Epoch 10/100\n",
            "900/900 [==============================] - 0s 129us/step - loss: 0.7994 - acc: 0.7289 - val_loss: 0.9942 - val_acc: 0.6600\n",
            "Epoch 11/100\n",
            "900/900 [==============================] - 0s 137us/step - loss: 0.8188 - acc: 0.7267 - val_loss: 0.9448 - val_acc: 0.6300\n",
            "Epoch 12/100\n",
            "900/900 [==============================] - 0s 132us/step - loss: 0.7662 - acc: 0.7389 - val_loss: 0.9649 - val_acc: 0.6600\n",
            "Epoch 13/100\n",
            "900/900 [==============================] - 0s 121us/step - loss: 0.7442 - acc: 0.7500 - val_loss: 0.9721 - val_acc: 0.6400\n",
            "Epoch 14/100\n",
            "900/900 [==============================] - 0s 124us/step - loss: 0.7247 - acc: 0.7567 - val_loss: 1.0068 - val_acc: 0.5900\n",
            "Epoch 15/100\n",
            "900/900 [==============================] - 0s 125us/step - loss: 0.7034 - acc: 0.7622 - val_loss: 0.9196 - val_acc: 0.6800\n",
            "Epoch 16/100\n",
            "900/900 [==============================] - 0s 125us/step - loss: 0.6648 - acc: 0.7744 - val_loss: 0.9553 - val_acc: 0.6600\n",
            "Epoch 17/100\n",
            "900/900 [==============================] - 0s 126us/step - loss: 0.6347 - acc: 0.7789 - val_loss: 0.9475 - val_acc: 0.6600\n",
            "Epoch 18/100\n",
            "900/900 [==============================] - 0s 121us/step - loss: 0.5792 - acc: 0.7989 - val_loss: 0.9658 - val_acc: 0.6200\n",
            "Epoch 19/100\n",
            "900/900 [==============================] - 0s 126us/step - loss: 0.6024 - acc: 0.7956 - val_loss: 0.8964 - val_acc: 0.6800\n",
            "Epoch 20/100\n",
            "900/900 [==============================] - 0s 132us/step - loss: 0.5855 - acc: 0.7867 - val_loss: 0.9274 - val_acc: 0.6800\n",
            "Epoch 21/100\n",
            "900/900 [==============================] - 0s 134us/step - loss: 0.5444 - acc: 0.8322 - val_loss: 0.9081 - val_acc: 0.6800\n",
            "Epoch 22/100\n",
            "900/900 [==============================] - 0s 130us/step - loss: 0.5293 - acc: 0.8278 - val_loss: 0.9496 - val_acc: 0.6700\n",
            "Epoch 23/100\n",
            "900/900 [==============================] - 0s 132us/step - loss: 0.4977 - acc: 0.8322 - val_loss: 0.9510 - val_acc: 0.6500\n",
            "Epoch 24/100\n",
            "900/900 [==============================] - 0s 133us/step - loss: 0.4897 - acc: 0.8311 - val_loss: 0.9878 - val_acc: 0.6600\n",
            "Epoch 25/100\n",
            "900/900 [==============================] - 0s 147us/step - loss: 0.4655 - acc: 0.8333 - val_loss: 0.8754 - val_acc: 0.6800\n",
            "Epoch 26/100\n",
            "900/900 [==============================] - 0s 141us/step - loss: 0.4649 - acc: 0.8367 - val_loss: 0.9416 - val_acc: 0.6600\n",
            "Epoch 27/100\n",
            "900/900 [==============================] - 0s 142us/step - loss: 0.4451 - acc: 0.8456 - val_loss: 0.8850 - val_acc: 0.6600\n",
            "Epoch 28/100\n",
            "900/900 [==============================] - 0s 128us/step - loss: 0.4471 - acc: 0.8467 - val_loss: 0.9243 - val_acc: 0.7000\n",
            "Epoch 29/100\n",
            "900/900 [==============================] - 0s 134us/step - loss: 0.4266 - acc: 0.8656 - val_loss: 0.9649 - val_acc: 0.6700\n",
            "Epoch 30/100\n",
            "900/900 [==============================] - 0s 124us/step - loss: 0.3997 - acc: 0.8722 - val_loss: 0.9678 - val_acc: 0.6600\n",
            "Epoch 31/100\n",
            "900/900 [==============================] - 0s 138us/step - loss: 0.4114 - acc: 0.8511 - val_loss: 0.9321 - val_acc: 0.7200\n",
            "Epoch 32/100\n",
            "900/900 [==============================] - 0s 144us/step - loss: 0.3739 - acc: 0.8811 - val_loss: 0.9328 - val_acc: 0.6800\n",
            "Epoch 33/100\n",
            "900/900 [==============================] - 0s 126us/step - loss: 0.3433 - acc: 0.8900 - val_loss: 1.0641 - val_acc: 0.6700\n",
            "Epoch 34/100\n",
            "900/900 [==============================] - 0s 127us/step - loss: 0.3656 - acc: 0.8756 - val_loss: 0.9170 - val_acc: 0.7000\n",
            "Epoch 35/100\n",
            "900/900 [==============================] - 0s 140us/step - loss: 0.3329 - acc: 0.8844 - val_loss: 0.9854 - val_acc: 0.7000\n",
            "Epoch 36/100\n",
            "900/900 [==============================] - 0s 132us/step - loss: 0.2887 - acc: 0.9178 - val_loss: 0.9944 - val_acc: 0.6900\n",
            "Epoch 37/100\n",
            "900/900 [==============================] - 0s 124us/step - loss: 0.2887 - acc: 0.9067 - val_loss: 0.9855 - val_acc: 0.6600\n",
            "Epoch 38/100\n",
            "900/900 [==============================] - 0s 125us/step - loss: 0.3163 - acc: 0.8978 - val_loss: 1.0795 - val_acc: 0.6600\n",
            "Epoch 39/100\n",
            "900/900 [==============================] - 0s 129us/step - loss: 0.2727 - acc: 0.9056 - val_loss: 0.9538 - val_acc: 0.6700\n",
            "Epoch 40/100\n",
            "900/900 [==============================] - 0s 136us/step - loss: 0.2407 - acc: 0.9344 - val_loss: 0.9860 - val_acc: 0.6600\n",
            "Epoch 41/100\n",
            "900/900 [==============================] - 0s 126us/step - loss: 0.2443 - acc: 0.9178 - val_loss: 0.9905 - val_acc: 0.6700\n",
            "Epoch 42/100\n",
            "900/900 [==============================] - 0s 123us/step - loss: 0.2557 - acc: 0.9200 - val_loss: 0.9930 - val_acc: 0.6800\n",
            "Epoch 43/100\n",
            "900/900 [==============================] - 0s 125us/step - loss: 0.2206 - acc: 0.9367 - val_loss: 0.9826 - val_acc: 0.6800\n",
            "Epoch 44/100\n",
            "900/900 [==============================] - 0s 134us/step - loss: 0.2619 - acc: 0.9256 - val_loss: 0.9181 - val_acc: 0.7000\n",
            "Epoch 45/100\n",
            "900/900 [==============================] - 0s 133us/step - loss: 0.2382 - acc: 0.9167 - val_loss: 1.0076 - val_acc: 0.6900\n",
            "Epoch 46/100\n",
            "900/900 [==============================] - 0s 135us/step - loss: 0.2354 - acc: 0.9244 - val_loss: 1.1040 - val_acc: 0.6600\n",
            "Epoch 47/100\n",
            "900/900 [==============================] - 0s 135us/step - loss: 0.2294 - acc: 0.9278 - val_loss: 0.9401 - val_acc: 0.7000\n",
            "Epoch 48/100\n",
            "900/900 [==============================] - 0s 132us/step - loss: 0.2032 - acc: 0.9389 - val_loss: 1.0106 - val_acc: 0.6500\n",
            "Epoch 49/100\n",
            "900/900 [==============================] - 0s 133us/step - loss: 0.2283 - acc: 0.9333 - val_loss: 0.9836 - val_acc: 0.6600\n",
            "Epoch 50/100\n",
            "900/900 [==============================] - 0s 130us/step - loss: 0.1968 - acc: 0.9433 - val_loss: 1.0132 - val_acc: 0.7000\n",
            "Epoch 51/100\n",
            "900/900 [==============================] - 0s 126us/step - loss: 0.1857 - acc: 0.9489 - val_loss: 1.0060 - val_acc: 0.7400\n",
            "Epoch 52/100\n",
            "900/900 [==============================] - 0s 142us/step - loss: 0.1778 - acc: 0.9456 - val_loss: 1.0143 - val_acc: 0.7100\n",
            "Epoch 53/100\n",
            "900/900 [==============================] - 0s 128us/step - loss: 0.1604 - acc: 0.9567 - val_loss: 0.9773 - val_acc: 0.7000\n",
            "Epoch 54/100\n",
            "900/900 [==============================] - 0s 124us/step - loss: 0.1627 - acc: 0.9522 - val_loss: 1.0872 - val_acc: 0.7300\n",
            "Epoch 55/100\n",
            "900/900 [==============================] - 0s 131us/step - loss: 0.1875 - acc: 0.9478 - val_loss: 1.0918 - val_acc: 0.7000\n",
            "Epoch 56/100\n",
            "900/900 [==============================] - 0s 134us/step - loss: 0.1471 - acc: 0.9622 - val_loss: 1.0345 - val_acc: 0.7200\n",
            "Epoch 57/100\n",
            "900/900 [==============================] - 0s 132us/step - loss: 0.1449 - acc: 0.9567 - val_loss: 1.1164 - val_acc: 0.7200\n",
            "Epoch 58/100\n",
            "900/900 [==============================] - 0s 133us/step - loss: 0.1519 - acc: 0.9556 - val_loss: 1.0545 - val_acc: 0.7300\n",
            "Epoch 59/100\n",
            "900/900 [==============================] - 0s 143us/step - loss: 0.1584 - acc: 0.9567 - val_loss: 1.2465 - val_acc: 0.6800\n",
            "Epoch 60/100\n",
            "900/900 [==============================] - 0s 138us/step - loss: 0.1648 - acc: 0.9533 - val_loss: 1.0588 - val_acc: 0.7400\n",
            "Epoch 61/100\n",
            "900/900 [==============================] - 0s 128us/step - loss: 0.1352 - acc: 0.9633 - val_loss: 1.0797 - val_acc: 0.7500\n",
            "Epoch 62/100\n",
            "900/900 [==============================] - 0s 129us/step - loss: 0.1411 - acc: 0.9611 - val_loss: 1.1544 - val_acc: 0.7200\n",
            "Epoch 63/100\n",
            "900/900 [==============================] - 0s 133us/step - loss: 0.1137 - acc: 0.9633 - val_loss: 1.0381 - val_acc: 0.7200\n",
            "Epoch 64/100\n",
            "900/900 [==============================] - 0s 144us/step - loss: 0.1236 - acc: 0.9633 - val_loss: 1.1263 - val_acc: 0.7200\n",
            "Epoch 65/100\n",
            "900/900 [==============================] - 0s 129us/step - loss: 0.1356 - acc: 0.9600 - val_loss: 0.9268 - val_acc: 0.7500\n",
            "Epoch 66/100\n",
            "900/900 [==============================] - 0s 124us/step - loss: 0.1307 - acc: 0.9633 - val_loss: 0.9861 - val_acc: 0.7500\n",
            "Epoch 67/100\n",
            "900/900 [==============================] - 0s 125us/step - loss: 0.1053 - acc: 0.9622 - val_loss: 1.0876 - val_acc: 0.7100\n",
            "Epoch 68/100\n",
            "900/900 [==============================] - 0s 124us/step - loss: 0.1067 - acc: 0.9711 - val_loss: 1.1161 - val_acc: 0.7100\n",
            "Epoch 69/100\n",
            "900/900 [==============================] - 0s 127us/step - loss: 0.1058 - acc: 0.9767 - val_loss: 1.0450 - val_acc: 0.7100\n",
            "Epoch 70/100\n",
            "900/900 [==============================] - 0s 122us/step - loss: 0.1067 - acc: 0.9678 - val_loss: 0.9995 - val_acc: 0.7300\n",
            "Epoch 71/100\n",
            "900/900 [==============================] - 0s 125us/step - loss: 0.1235 - acc: 0.9533 - val_loss: 1.1175 - val_acc: 0.7600\n",
            "Epoch 72/100\n",
            "900/900 [==============================] - 0s 133us/step - loss: 0.1105 - acc: 0.9644 - val_loss: 1.1099 - val_acc: 0.7100\n",
            "Epoch 73/100\n",
            "900/900 [==============================] - 0s 126us/step - loss: 0.1023 - acc: 0.9667 - val_loss: 1.1714 - val_acc: 0.6700\n",
            "Epoch 74/100\n",
            "900/900 [==============================] - 0s 125us/step - loss: 0.0969 - acc: 0.9778 - val_loss: 1.1304 - val_acc: 0.6800\n",
            "Epoch 75/100\n",
            "900/900 [==============================] - 0s 126us/step - loss: 0.1004 - acc: 0.9689 - val_loss: 1.1123 - val_acc: 0.7500\n",
            "Epoch 76/100\n",
            "900/900 [==============================] - 0s 146us/step - loss: 0.1114 - acc: 0.9678 - val_loss: 1.1848 - val_acc: 0.6800\n",
            "Epoch 77/100\n",
            "900/900 [==============================] - 0s 141us/step - loss: 0.0996 - acc: 0.9733 - val_loss: 1.0512 - val_acc: 0.7200\n",
            "Epoch 78/100\n",
            "900/900 [==============================] - 0s 125us/step - loss: 0.1185 - acc: 0.9644 - val_loss: 1.0639 - val_acc: 0.7300\n",
            "Epoch 79/100\n",
            "900/900 [==============================] - 0s 141us/step - loss: 0.1327 - acc: 0.9544 - val_loss: 1.3021 - val_acc: 0.6500\n",
            "Epoch 80/100\n",
            "900/900 [==============================] - 0s 144us/step - loss: 0.1275 - acc: 0.9600 - val_loss: 1.1399 - val_acc: 0.6900\n",
            "Epoch 81/100\n",
            "900/900 [==============================] - 0s 138us/step - loss: 0.0935 - acc: 0.9711 - val_loss: 1.1572 - val_acc: 0.7000\n",
            "Epoch 82/100\n",
            "900/900 [==============================] - 0s 135us/step - loss: 0.0872 - acc: 0.9744 - val_loss: 1.1927 - val_acc: 0.7000\n",
            "Epoch 83/100\n",
            "900/900 [==============================] - 0s 138us/step - loss: 0.1166 - acc: 0.9656 - val_loss: 1.1885 - val_acc: 0.6800\n",
            "Epoch 84/100\n",
            "900/900 [==============================] - 0s 147us/step - loss: 0.0973 - acc: 0.9700 - val_loss: 1.2582 - val_acc: 0.6700\n",
            "Epoch 85/100\n",
            "900/900 [==============================] - 0s 126us/step - loss: 0.0839 - acc: 0.9733 - val_loss: 1.1076 - val_acc: 0.6900\n",
            "Epoch 86/100\n",
            "900/900 [==============================] - 0s 123us/step - loss: 0.0757 - acc: 0.9778 - val_loss: 1.1766 - val_acc: 0.6900\n",
            "Epoch 87/100\n",
            "900/900 [==============================] - 0s 126us/step - loss: 0.0998 - acc: 0.9667 - val_loss: 1.1831 - val_acc: 0.7200\n",
            "Epoch 88/100\n",
            "900/900 [==============================] - 0s 135us/step - loss: 0.0812 - acc: 0.9744 - val_loss: 1.1410 - val_acc: 0.7100\n",
            "Epoch 89/100\n",
            "900/900 [==============================] - 0s 131us/step - loss: 0.0719 - acc: 0.9733 - val_loss: 1.2701 - val_acc: 0.7000\n",
            "Epoch 90/100\n",
            "900/900 [==============================] - 0s 124us/step - loss: 0.0894 - acc: 0.9722 - val_loss: 1.1894 - val_acc: 0.7500\n",
            "Epoch 91/100\n",
            "900/900 [==============================] - 0s 123us/step - loss: 0.0748 - acc: 0.9822 - val_loss: 1.3285 - val_acc: 0.7400\n",
            "Epoch 92/100\n",
            "900/900 [==============================] - 0s 139us/step - loss: 0.1149 - acc: 0.9567 - val_loss: 1.3602 - val_acc: 0.7400\n",
            "Epoch 93/100\n",
            "900/900 [==============================] - 0s 128us/step - loss: 0.0948 - acc: 0.9644 - val_loss: 1.3379 - val_acc: 0.7100\n",
            "Epoch 94/100\n",
            "900/900 [==============================] - 0s 133us/step - loss: 0.0679 - acc: 0.9822 - val_loss: 1.2369 - val_acc: 0.7400\n",
            "Epoch 95/100\n",
            "900/900 [==============================] - 0s 124us/step - loss: 0.0619 - acc: 0.9833 - val_loss: 1.2140 - val_acc: 0.7500\n",
            "Epoch 96/100\n",
            "900/900 [==============================] - 0s 138us/step - loss: 0.0709 - acc: 0.9811 - val_loss: 1.2756 - val_acc: 0.7200\n",
            "Epoch 97/100\n",
            "900/900 [==============================] - 0s 138us/step - loss: 0.0764 - acc: 0.9789 - val_loss: 1.1198 - val_acc: 0.7600\n",
            "Epoch 98/100\n",
            "900/900 [==============================] - 0s 136us/step - loss: 0.0654 - acc: 0.9844 - val_loss: 1.1815 - val_acc: 0.7200\n",
            "Epoch 99/100\n",
            "900/900 [==============================] - 0s 123us/step - loss: 0.0811 - acc: 0.9700 - val_loss: 1.1096 - val_acc: 0.7300\n",
            "Epoch 100/100\n",
            "900/900 [==============================] - 0s 146us/step - loss: 0.0485 - acc: 0.9889 - val_loss: 1.1818 - val_acc: 0.7100\n"
          ],
          "name": "stdout"
        }
      ]
    },
    {
      "cell_type": "code",
      "metadata": {
        "id": "f_zmkgLDPKEa",
        "colab": {
          "base_uri": "https://localhost:8080/",
          "height": 516
        },
        "outputId": "2c18ba0c-71b0-4a12-d383-1a120ff2cd41"
      },
      "source": [
        "plt.plot(history.history[\"acc\"])\n",
        "plt.plot(history.history[\"val_acc\"])\n",
        "plt.show()\n",
        "\n",
        "plt.hist(history.history['val_acc'], bins=100)\n",
        "plt.show()"
      ],
      "execution_count": null,
      "outputs": [
        {
          "output_type": "display_data",
          "data": {
            "image/png": "[encoded data removed]",
            "text/plain": [
              "<Figure size 432x288 with 1 Axes>"
            ]
          },
          "metadata": {
            "tags": []
          }
        },
        {
          "output_type": "display_data",
          "data": {
            "image/png": "[encoded data removed]",
            "text/plain": [
              "<Figure size 432x288 with 1 Axes>"
            ]
          },
          "metadata": {
            "tags": []
          }
        }
      ]
    },
    {
      "cell_type": "code",
      "metadata": {
        "id": "qEE0X83XPRi3"
      },
      "source": [
        "\n",
        "songname = f'./genres/rock/rock.00000.au'\n",
        "\n",
        "y, sr = librosa.load(songname, mono=True, duration=30)\n",
        "\n",
        "out = get_features2(y, sr)"
      ],
      "execution_count": null,
      "outputs": []
    },
    {
      "cell_type": "code",
      "metadata": {
        "id": "Q4qdI6VCPWUU"
      },
      "source": [
        "out = np.array(out).reshape(1,37)"
      ],
      "execution_count": null,
      "outputs": []
    },
    {
      "cell_type": "code",
      "metadata": {
        "id": "FHLrwphCPZeu",
        "colab": {
          "base_uri": "https://localhost:8080/",
          "height": 34
        },
        "outputId": "10fbc03a-adc7-4389-c3d9-225d28e90dd4"
      },
      "source": [
        "out.shape"
      ],
      "execution_count": null,
      "outputs": [
        {
          "output_type": "execute_result",
          "data": {
            "text/plain": [
              "(1, 37)"
            ]
          },
          "metadata": {
            "tags": []
          },
          "execution_count": 99
        }
      ]
    },
    {
      "cell_type": "code",
      "metadata": {
        "id": "B4H0zMa9PdSV"
      },
      "source": [
        "out = scaler.transform(out)"
      ],
      "execution_count": null,
      "outputs": []
    },
    {
      "cell_type": "code",
      "metadata": {
        "id": "6FV-VH4RPg73",
        "colab": {
          "base_uri": "https://localhost:8080/",
          "height": 141
        },
        "outputId": "0a47fb11-4ebb-425d-b59a-ddb9c09b2468"
      },
      "source": [
        "print(out)"
      ],
      "execution_count": null,
      "outputs": [
        {
          "output_type": "stream",
          "text": [
            "[[-0.02690168 -0.28780161 -0.27660395 -0.21895271 -0.32147562  0.2781953\n",
            "   0.31028482 -0.65605257  0.26401823 -0.87942113  0.71996303 -1.03300635\n",
            "   0.47878823 -0.78838959  0.62573777 -0.71319511  0.60099535 -1.09968739\n",
            "   0.08155267 -0.4773205   0.18880677 -0.87535319  0.40799876 -0.01668224\n",
            "  -0.11444064 -0.07569812  1.12639628  0.89248677  0.40919863  0.74039905\n",
            "  -0.40429019 -0.66451179 -0.58669354  0.08835712  0.88386322 -0.76529203\n",
            "  -0.85039474]]\n"
          ],
          "name": "stdout"
        }
      ]
    },
    {
      "cell_type": "code",
      "metadata": {
        "id": "iu7V24efPirt"
      },
      "source": [
        "y = model.predict(out)"
      ],
      "execution_count": null,
      "outputs": []
    },
    {
      "cell_type": "code",
      "metadata": {
        "id": "S2D2AW3mPnsw",
        "colab": {
          "base_uri": "https://localhost:8080/",
          "height": 87
        },
        "outputId": "ec3682ef-c006-4887-9f0f-e505003b0c07"
      },
      "source": [
        "print(y)\n",
        "print(np.argmax(y))\n",
        "print(genres.index(\"rock\"))"
      ],
      "execution_count": null,
      "outputs": [
        {
          "output_type": "stream",
          "text": [
            "[[1.1352468e-04 8.6303635e-06 1.4460984e-03 5.9904036e-04 1.0117482e-03\n",
            "  2.9896492e-07 2.1483754e-03 1.5787937e-06 4.7789316e-04 9.9419290e-01]]\n",
            "9\n",
            "9\n"
          ],
          "name": "stdout"
        }
      ]
    },
    {
      "cell_type": "markdown",
      "metadata": {
        "id": "BK1uwMcYS5wD"
      },
      "source": [
        "Сеть переобучается. Оптимизация была сделанна грубо, но некоторые рекомендации применимы. В частности дроп аут, функции активации и размер бача."
      ]
    }
  ]
}